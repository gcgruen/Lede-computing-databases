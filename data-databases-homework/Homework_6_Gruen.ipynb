{
 "cells": [
  {
   "cell_type": "markdown",
   "metadata": {},
   "source": [
    "# Homework 6: Web Applications\n",
    "\n",
    "For this homework, you're going to write a web API for the lake data in the MONDIAL database. (Make sure you've imported the data as originally outlined in [our week 1 tutorial](https://github.com/ledeprogram/data-and-databases/blob/master/SQL_notes.md).)\n",
    "\n",
    "The API should perform the following tasks:\n",
    "\n",
    "* A request to `/lakes` should return a JSON list of dictionaries, with the information from the `name`, `elevation`, `area` and `type` fields from the `lake` table in MONDIAL.\n",
    "* The API should recognize the query string parameter `sort`. When left blank or set to `name`, the results should be sorted by the name of the lake (in alphabetical order). When set to `area` or `elevation`, the results should be sorted by the requested field, in *descending* order.\n",
    "* The API should recognize the query string parameter `type`. When specified, the results should *only* include rows that have the specified value in the `type` field.\n",
    "* You should be able to use *both* the `sort` and `type` parameters in any request.\n",
    "\n",
    "This notebook contains only *test requests to your API*. Write the API as a standalone Python program, start the program and then run the code in the cells below to ensure that your API produces the expected output. When you're done, paste the source code in the final cell (so we can check your work, if needed).\n",
    "\n",
    "Hints when writing your API code:\n",
    "\n",
    "* You'll need to construct the SQL query as a string, piece by piece. This will likely involve a somewhat messy tangle of `if` statements. Lean into the messy tangle.\n",
    "* Make sure to use parameter placeholders (%s) in the query.\n",
    "* If you're getting SQL errors, print out your SQL statement in the request handler function so you can debug it. (When you use `print()` in Flask, the results will display in your terminal window.)\n",
    "* When in doubt, return to the test code. Examine it carefully and make sure you know exactly what it's trying to do.\n",
    "\n",
    "## Problem set #1: A list of lakes\n",
    "\n",
    "Your API should return a JSON list of dictionaries (objects). Use the code below to determine what the keys of the dictionaries should be. (For brevity, this example only prints out the first ten records, but of course your API should return all of them.)\n",
    "\n",
    "Expected output:\n",
    "\n",
    "    143 lakes\n",
    "    Ammersee - elevation: 533 m / area: 46 km^2 / type: None\n",
    "    Arresoe - elevation: None m / area: 40 km^2 / type: None\n",
    "    Atlin Lake - elevation: 668 m / area: 798 km^2 / type: None\n",
    "    Balaton - elevation: 104 m / area: 594 km^2 / type: None\n",
    "    Barrage de Mbakaou - elevation: None m / area: None km^2 / type: dam\n",
    "    Bodensee - elevation: 395 m / area: 538 km^2 / type: None\n",
    "    Brienzersee - elevation: 564 m / area: 29 km^2 / type: None\n",
    "    Caspian Sea - elevation: -28 m / area: 386400 km^2 / type: salt\n",
    "    Chad Lake - elevation: 250 m / area: 23000 km^2 / type: salt\n",
    "    Chew Bahir - elevation: 520 m / area: 800 km^2 / type: salt"
   ]
  },
  {
   "cell_type": "code",
   "execution_count": 47,
   "metadata": {
    "collapsed": false
   },
   "outputs": [
    {
     "name": "stdout",
     "output_type": "stream",
     "text": [
      "143 lakes\n",
      "Ammersee - elevation: 533 m / area: 46 km^2 / type: None\n",
      "Arresoe - elevation: None m / area: 40 km^2 / type: None\n",
      "Atlin Lake - elevation: 668 m / area: 798 km^2 / type: None\n",
      "Balaton - elevation: 104 m / area: 594 km^2 / type: None\n",
      "Barrage de Mbakaou - elevation: None m / area: None km^2 / type: dam\n",
      "Bodensee - elevation: 395 m / area: 538 km^2 / type: None\n",
      "Brienzersee - elevation: 564 m / area: 29 km^2 / type: None\n",
      "Caspian Sea - elevation: -28 m / area: 386400 km^2 / type: salt\n",
      "Chad Lake - elevation: 250 m / area: 23000 km^2 / type: salt\n",
      "Chew Bahir - elevation: 520 m / area: 800 km^2 / type: salt\n"
     ]
    }
   ],
   "source": [
    "import requests\n",
    "data = requests.get('http://localhost:5000/lakes').json()\n",
    "print(len(data), \"lakes\")\n",
    "for item in data[:10]:\n",
    "    print(item['name'], \"- elevation:\", item['elevation'], \"m / area:\", item['area'], \"km^2 / type:\", item['type'])"
   ]
  },
  {
   "cell_type": "markdown",
   "metadata": {},
   "source": [
    "## Problem set #2: Lakes of a certain type\n",
    "\n",
    "The following code fetches all lakes of type `salt` and finds their average area and elevation.\n",
    "\n",
    "Expected output:\n",
    "\n",
    "    average area: 18880\n",
    "    average elevation: 970"
   ]
  },
  {
   "cell_type": "code",
   "execution_count": 19,
   "metadata": {
    "collapsed": false
   },
   "outputs": [
    {
     "name": "stdout",
     "output_type": "stream",
     "text": [
      "average area: 18880\n",
      "average elevation: 970\n"
     ]
    }
   ],
   "source": [
    "import requests\n",
    "data = requests.get('http://localhost:5000/lakes?type=salt').json()\n",
    "avg_area = sum([x['area'] for x in data if x['area'] is not None]) / len(data)\n",
    "avg_elev = sum([x['elevation'] for x in data if x['elevation'] is not None]) / len(data)\n",
    "print(\"average area:\", int(avg_area))\n",
    "print(\"average elevation:\", int(avg_elev))"
   ]
  },
  {
   "cell_type": "markdown",
   "metadata": {},
   "source": [
    "## Problem set #3: Lakes in order\n",
    "\n",
    "The following code fetches lakes in reverse order by their elevation and prints out the name of the first fifteen, excluding lakes with an empty elevation field.\n",
    "\n",
    "Expected output:\n",
    "\n",
    "    * Licancabur Crater Lake\n",
    "    * Nam Co\n",
    "    * Lago Junin\n",
    "    * Lake Titicaca\n",
    "    * Poopo\n",
    "    * Salar de Uyuni\n",
    "    * Koli Sarez\n",
    "    * Lake Irazu\n",
    "    * Qinghai Lake\n",
    "    * Segara Anak\n",
    "    * Lake Tahoe\n",
    "    * Crater Lake\n",
    "    * Lake Tana\n",
    "    * Lake Van\n",
    "    * Issyk-Kul"
   ]
  },
  {
   "cell_type": "code",
   "execution_count": 25,
   "metadata": {
    "collapsed": false
   },
   "outputs": [
    {
     "name": "stdout",
     "output_type": "stream",
     "text": [
      "* Licancabur Crater Lake\n",
      "* Nam Co\n",
      "* Lago Junin\n",
      "* Lake Titicaca\n",
      "* Poopo\n",
      "* Salar de Uyuni\n",
      "* Koli Sarez\n",
      "* Lake Irazu\n",
      "* Qinghai Lake\n",
      "* Segara Anak\n",
      "* Lake Tahoe\n",
      "* Crater Lake\n",
      "* Lake Tana\n",
      "* Lake Van\n",
      "* Issyk-Kul\n"
     ]
    }
   ],
   "source": [
    "import requests\n",
    "data = requests.get('http://localhost:5000/lakes?sort=elevation').json()\n",
    "for item in [x['name'] for x in data if x['elevation'] is not None][:15]:\n",
    "    print(\"*\", item)"
   ]
  },
  {
   "cell_type": "markdown",
   "metadata": {},
   "source": [
    "## Problem set #4: Order and type\n",
    "\n",
    "The following code prints the names of the largest caldera lakes, ordered in reverse order by area.\n",
    "\n",
    "Expected output:\n",
    "\n",
    "    * Lake Nyos\n",
    "    * Lake Toba\n",
    "    * Lago Trasimeno\n",
    "    * Lago di Bolsena\n",
    "    * Lago di Bracciano\n",
    "    * Crater Lake\n",
    "    * Segara Anak\n",
    "    * Laacher Maar"
   ]
  },
  {
   "cell_type": "code",
   "execution_count": 28,
   "metadata": {
    "collapsed": false
   },
   "outputs": [
    {
     "name": "stdout",
     "output_type": "stream",
     "text": [
      "* Lake Nyos\n",
      "* Lake Toba\n",
      "* Lago Trasimeno\n",
      "* Lago di Bolsena\n",
      "* Lago di Bracciano\n",
      "* Crater Lake\n",
      "* Segara Anak\n",
      "* Laacher Maar\n"
     ]
    }
   ],
   "source": [
    "import requests\n",
    "data = requests.get('http://localhost:5000/lakes?sort=area&type=caldera').json()\n",
    "for item in data:\n",
    "    print(\"*\", item['name'])"
   ]
  },
  {
   "cell_type": "markdown",
   "metadata": {},
   "source": [
    "## Problem set #5: Error handling\n",
    "\n",
    "Your API should work fine even when faced with potential error-causing inputs. For example, the expected output for this statement is an empty list (`[]`), *not* every row in the table."
   ]
  },
  {
   "cell_type": "code",
   "execution_count": 43,
   "metadata": {
    "collapsed": false
   },
   "outputs": [
    {
     "data": {
      "text/plain": [
       "[]"
      ]
     },
     "execution_count": 43,
     "metadata": {},
     "output_type": "execute_result"
    }
   ],
   "source": [
    "import requests\n",
    "data = requests.get('http://localhost:5000/lakes', params={'type': \"' OR true; --\"}).json()\n",
    "data"
   ]
  },
  {
   "cell_type": "markdown",
   "metadata": {},
   "source": [
    "Specifying a field other than `name`, `area` or `elevation` for the `sort` parameter should fail silently, defaulting to sorting alphabetically. Expected output: `['Ammersee', 'Arresoe', 'Atlin Lake', 'Balaton', 'Barrage de Mbakaou']\n",
    "`"
   ]
  },
  {
   "cell_type": "code",
   "execution_count": 46,
   "metadata": {
    "collapsed": false
   },
   "outputs": [
    {
     "data": {
      "text/plain": [
       "['Ammersee', 'Arresoe', 'Atlin Lake', 'Balaton', 'Barrage de Mbakaou']"
      ]
     },
     "execution_count": 46,
     "metadata": {},
     "output_type": "execute_result"
    }
   ],
   "source": [
    "import requests\n",
    "data = requests.get('http://localhost:5000/lakes', params={'sort': \"florb\"}).json()\n",
    "[x['name'] for x in data[:5]]"
   ]
  },
  {
   "cell_type": "markdown",
   "metadata": {},
   "source": [
    "## Paste your code\n",
    "\n",
    "Please paste the code for your entire Flask application in the cell below, in case we want to take a look when grading or debugging your assignment."
   ]
  },
  {
   "cell_type": "code",
   "execution_count": 2,
   "metadata": {
    "collapsed": false
   },
   "outputs": [
    {
     "ename": "ImportError",
     "evalue": "No module named 'flask'",
     "output_type": "error",
     "traceback": [
      "\u001b[0;31m---------------------------------------------------------------------------\u001b[0m",
      "\u001b[0;31mImportError\u001b[0m                               Traceback (most recent call last)",
      "\u001b[0;32m<ipython-input-2-3d0380aefba3>\u001b[0m in \u001b[0;36m<module>\u001b[0;34m()\u001b[0m\n\u001b[1;32m      4\u001b[0m \u001b[0;31m## This code works, next step is to make the type WHERE and the ORDER BY clause variables\u001b[0m\u001b[0;34m\u001b[0m\u001b[0;34m\u001b[0m\u001b[0m\n\u001b[1;32m      5\u001b[0m \u001b[0;34m\u001b[0m\u001b[0m\n\u001b[0;32m----> 6\u001b[0;31m \u001b[0;32mfrom\u001b[0m \u001b[0mflask\u001b[0m \u001b[0;32mimport\u001b[0m \u001b[0mFlask\u001b[0m\u001b[0;34m,\u001b[0m \u001b[0mrequest\u001b[0m\u001b[0;34m,\u001b[0m \u001b[0mjsonify\u001b[0m\u001b[0;34m\u001b[0m\u001b[0m\n\u001b[0m\u001b[1;32m      7\u001b[0m \u001b[0;32mimport\u001b[0m \u001b[0mpg8000\u001b[0m\u001b[0;34m\u001b[0m\u001b[0m\n\u001b[1;32m      8\u001b[0m \u001b[0;34m\u001b[0m\u001b[0m\n",
      "\u001b[0;31mImportError\u001b[0m: No module named 'flask'"
     ]
    }
   ],
   "source": [
    "# paste code here\n",
    "## WORK IN PROGRESS:\n",
    "\n",
    "## This code works, next step is to make the type WHERE and the ORDER BY clause variables\n",
    "\n",
    "from flask import Flask, request, jsonify\n",
    "import pg8000\n",
    "\n",
    "app = Flask (__name__)\n",
    "conn = pg8000.connect(database=\"mondial\", user=\"gcg\")\n",
    "\n",
    "@app.route(\"/lakes\")\n",
    "def get_lakes():\n",
    "    cursor = conn.cursor()\n",
    "    cursor.execute(\"SELECT name, elevation, area, type FROM lake WHERE type== 'salt' ORDER BY area DESC\")\n",
    "    output=[]\n",
    "    for item in cursor.fetchall():\n",
    "        #print(item)\n",
    "        get_name = str(item[0])\n",
    "        get_type = str(item[3])\n",
    "        if item[1] is not None:\n",
    "            get_elevation = float(item[1])\n",
    "        else:\n",
    "            get_elevation = None\n",
    "        if item[2] is not None:\n",
    "            get_area = float(item[2])\n",
    "        else:\n",
    "            get_area = None\n",
    "        output.append({'name': get_name, \n",
    "                       'elevation': get_elevation, \n",
    "                       'area': get_area, \n",
    "                       'type': get_type})\n",
    "    return jsonify(output)\n",
    "\n",
    "app.run(port=5001)"
   ]
  },
  {
   "cell_type": "code",
   "execution_count": 3,
   "metadata": {
    "collapsed": true
   },
   "outputs": [],
   "source": [
    "## STEP 2: TRYING VARIOUS APPROACHES to make WHERE and ORDER BY variables\n",
    "\n",
    "\n",
    "#%s can be\n",
    "    #WHERE type = something\n",
    "    \n",
    "    #ORDER BY name\n",
    "    #ORDER BY area DESC\n",
    "    #ORDER BY elevation DESC\n",
    "    \n",
    "    #no where statement\n",
    "    \n",
    "#FIRST APPROACH\n",
    "# http://initd.org/psycopg/docs/usage.html\n",
    "#     psql = \"SELECT name, elevation, area, type FROM lake ORDER BY %s\"\n",
    "#     sorting_option = request.args.get('sort', 'name')\n",
    "#     if 'sort' == 'area':\n",
    "#         sorting_option = \"ORDER BY area DESC\"\n",
    "#     if 'sort' == 'elevation':\n",
    "#         sorting_option = \"ORDER BY elevation DESC\"    \n",
    "#     cursor.execute(psql, sorting_option)\n",
    "\n",
    "\n",
    "#SECOND APPROACH\n",
    "#     x = request.args.get ('sort', 'name')\n",
    "#     if 'sort' == 'area':\n",
    "#         manipulation = x + \"DESC\"\n",
    "#     if 'sort' == 'elevation':\n",
    "    \n",
    "#     else: \n",
    "#         manipulation = x"
   ]
  },
  {
   "cell_type": "code",
   "execution_count": 4,
   "metadata": {
    "collapsed": false
   },
   "outputs": [
    {
     "ename": "ImportError",
     "evalue": "No module named 'flask'",
     "output_type": "error",
     "traceback": [
      "\u001b[0;31m---------------------------------------------------------------------------\u001b[0m",
      "\u001b[0;31mImportError\u001b[0m                               Traceback (most recent call last)",
      "\u001b[0;32m<ipython-input-4-cf55bc8ab53e>\u001b[0m in \u001b[0;36m<module>\u001b[0;34m()\u001b[0m\n\u001b[1;32m      2\u001b[0m \u001b[0;31m## THE CURSOR-EXECUTE STATEMENT IS CORRECTLY RE-ASSEMBLED.\u001b[0m\u001b[0;34m\u001b[0m\u001b[0;34m\u001b[0m\u001b[0m\n\u001b[1;32m      3\u001b[0m \u001b[0;34m\u001b[0m\u001b[0m\n\u001b[0;32m----> 4\u001b[0;31m \u001b[0;32mfrom\u001b[0m \u001b[0mflask\u001b[0m \u001b[0;32mimport\u001b[0m \u001b[0mFlask\u001b[0m\u001b[0;34m,\u001b[0m \u001b[0mrequest\u001b[0m\u001b[0;34m,\u001b[0m \u001b[0mjsonify\u001b[0m\u001b[0;34m\u001b[0m\u001b[0m\n\u001b[0m\u001b[1;32m      5\u001b[0m \u001b[0;32mimport\u001b[0m \u001b[0mpg8000\u001b[0m\u001b[0;34m\u001b[0m\u001b[0m\n\u001b[1;32m      6\u001b[0m \u001b[0;34m\u001b[0m\u001b[0m\n",
      "\u001b[0;31mImportError\u001b[0m: No module named 'flask'"
     ]
    }
   ],
   "source": [
    "## PROBLEM: EVEN JUST PUTTING THE ELEMENTS INTO VARIABLES RETURNS AN ERROR, ALTHOUGH THE PRINT-STATEMENT SHOWS THAT\n",
    "## THE CURSOR-EXECUTE STATEMENT IS CORRECTLY RE-ASSEMBLED.\n",
    "\n",
    "from flask import Flask, request, jsonify\n",
    "import pg8000\n",
    "\n",
    "app = Flask (__name__)\n",
    "conn = pg8000.connect(database=\"mondial\", user=\"gcg\")\n",
    "\n",
    "@app.route(\"/lakes\", methods=[\"POST\"])\n",
    "def get_lakes():\n",
    "    cursor = conn.cursor()\n",
    "\n",
    "    type_opt = \"WHERE type == 'salt'\"\n",
    "    sort_opt = \"ORDER BY name\"\n",
    "    sql = \"SELECT name, elevation, area, type FROM lake\"\n",
    "    print(type(sql), type(type_opt), type(sort_opt))\n",
    "    conn.execute(sql, type_opt, sort_opt)\n",
    "\n",
    "    output=[]\n",
    "    for item in cursor.fetchall():\n",
    "        get_name = str(item[0])\n",
    "        get_type = str(item[3])\n",
    "        if item[1] is not None:\n",
    "            get_elevation = float(item[1])\n",
    "        else:\n",
    "            get_elevation = None\n",
    "        if item[2] is not None:\n",
    "            get_area = float(item[2])\n",
    "        else:\n",
    "            get_area = None\n",
    "        output.append({'name': get_name, \n",
    "                       'elevation': get_elevation, \n",
    "                       'area': get_area, \n",
    "                       'type': get_type})\n",
    "    return jsonify(output)\n",
    "\n",
    "app.run()"
   ]
  },
  {
   "cell_type": "code",
   "execution_count": null,
   "metadata": {
    "collapsed": true
   },
   "outputs": [],
   "source": []
  }
 ],
 "metadata": {
  "kernelspec": {
   "display_name": "Python 3",
   "language": "python",
   "name": "python3"
  },
  "language_info": {
   "codemirror_mode": {
    "name": "ipython",
    "version": 3
   },
   "file_extension": ".py",
   "mimetype": "text/x-python",
   "name": "python",
   "nbconvert_exporter": "python",
   "pygments_lexer": "ipython3",
   "version": "3.5.1"
  }
 },
 "nbformat": 4,
 "nbformat_minor": 0
}
