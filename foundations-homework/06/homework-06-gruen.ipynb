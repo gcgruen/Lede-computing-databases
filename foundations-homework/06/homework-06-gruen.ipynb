{
 "cells": [
  {
   "cell_type": "markdown",
   "metadata": {},
   "source": [
    "You'll be using the Dark Sky Forecast API from Forecast.io, available at https://developer.forecast.io. It's a pretty simple API, but be sure to read the documentation!\n",
    "\n",
    "1) Make a request from the Forecast.io API for where you were born (or lived, or want to visit!).\n",
    "\n",
    "Tip: Once you've imported the JSON into a variable, check the timezone's name to make sure it seems like it got the right part of the world!\n",
    "Tip 2: How is north vs. south and east vs. west latitude/longitude represented? Is it the normal North/South/East/West?\n",
    "\n"
   ]
  },
  {
   "cell_type": "code",
   "execution_count": null,
   "metadata": {
    "collapsed": true
   },
   "outputs": [],
   "source": []
  }
 ],
 "metadata": {
  "kernelspec": {
   "display_name": "Python 3",
   "language": "python",
   "name": "python3"
  },
  "language_info": {
   "codemirror_mode": {
    "name": "ipython",
    "version": 3
   },
   "file_extension": ".py",
   "mimetype": "text/x-python",
   "name": "python",
   "nbconvert_exporter": "python",
   "pygments_lexer": "ipython3",
   "version": "3.4.3"
  }
 },
 "nbformat": 4,
 "nbformat_minor": 0
}
