{
 "cells": [
  {
   "cell_type": "markdown",
   "metadata": {},
   "source": [
    "# Homework 05\n",
    "Spotify\n",
    "Gianna-Carina Gruen\n",
    "2016-06-07"
   ]
  },
  {
   "cell_type": "code",
   "execution_count": 5,
   "metadata": {
    "collapsed": false
   },
   "outputs": [
    {
     "name": "stdout",
     "output_type": "stream",
     "text": [
      "<class 'dict'>\n"
     ]
    },
    {
     "data": {
      "text/plain": [
       "dict_keys(['artists'])"
      ]
     },
     "execution_count": 5,
     "metadata": {},
     "output_type": "execute_result"
    }
   ],
   "source": [
    "import requests\n",
    "lil_response = requests.get ('https://api.spotify.com/v1/search?query=Lil&type=artist&country=US&limit=50')\n",
    "lil_data = lil_response.json()\n",
    "print(type(lil_data))\n",
    "lil_data.keys()"
   ]
  },
  {
   "cell_type": "code",
   "execution_count": 6,
   "metadata": {
    "collapsed": false
   },
   "outputs": [
    {
     "data": {
      "text/plain": [
       "dict_keys(['limit', 'items', 'next', 'total', 'href', 'offset', 'previous'])"
      ]
     },
     "execution_count": 6,
     "metadata": {},
     "output_type": "execute_result"
    }
   ],
   "source": [
    "lil_data['artists'].keys()"
   ]
  },
  {
   "cell_type": "code",
   "execution_count": 7,
   "metadata": {
    "collapsed": false
   },
   "outputs": [],
   "source": [
    "lil_artists = lil_data['artists']['items']\n",
    "#check on what elements are in that list: \n",
    "#print (lil_artists[0])"
   ]
  },
  {
   "cell_type": "markdown",
   "metadata": {},
   "source": [
    "## 1)##\n",
    "\n",
    "With \"Lil Wayne\" and \"Lil Kim\" there are a lot of \"Lil\" musicians. Do a search and print a list of 50 that are playable in the USA (or the country of your choice), along with their popularity score."
   ]
  },
  {
   "cell_type": "code",
   "execution_count": 8,
   "metadata": {
    "collapsed": false
   },
   "outputs": [
    {
     "name": "stdout",
     "output_type": "stream",
     "text": [
      "Lil Wayne has a popularity score of 86\n",
      "Lil Yachty has a popularity score of 72\n",
      "Lil Uzi Vert has a popularity score of 72\n",
      "Lil Dicky has a popularity score of 68\n",
      "Boosie Badazz has a popularity score of 67\n",
      "Lil Jon has a popularity score of 72\n",
      "King Lil G has a popularity score of 61\n",
      "Lil Durk has a popularity score of 60\n",
      "Lil Jon & The East Side Boyz has a popularity score of 60\n",
      "Lil Bibby has a popularity score of 54\n",
      "G Herbo has a popularity score of 53\n",
      "Lil Rob has a popularity score of 50\n",
      "Lil Reese has a popularity score of 50\n",
      "Lil Keke has a popularity score of 48\n",
      "Bow Wow has a popularity score of 57\n",
      "Lil Scrappy has a popularity score of 48\n",
      "Lil Wyte has a popularity score of 50\n",
      "Lil Blood has a popularity score of 45\n",
      "Lil Snupe has a popularity score of 45\n",
      "Lil Mama has a popularity score of 45\n",
      "Lil B has a popularity score of 44\n",
      "Lil' Kim has a popularity score of 62\n",
      "Lil Cuete has a popularity score of 40\n",
      "Lil Phat has a popularity score of 39\n",
      "Lil Debbie has a popularity score of 43\n",
      "Lil Twist has a popularity score of 39\n",
      "Lil Trill has a popularity score of 37\n",
      "Lil Twon has a popularity score of 38\n",
      "Lil AJ has a popularity score of 37\n",
      "Lil Lonnie has a popularity score of 37\n",
      "Lil Boom has a popularity score of 35\n",
      "Lil Goofy has a popularity score of 35\n",
      "Mr. Lil One has a popularity score of 36\n",
      "Lil Haiti has a popularity score of 36\n",
      "Lil Flash has a popularity score of 38\n",
      "Lil Kesh has a popularity score of 39\n",
      "Lil Cray has a popularity score of 35\n",
      "Lil Silva has a popularity score of 43\n",
      "Lil Rue has a popularity score of 34\n",
      "Lil Eddie has a popularity score of 41\n",
      "Lil Yase has a popularity score of 33\n",
      "Lil Wayne, DJ Drama has a popularity score of 35\n",
      "Lil Suzy has a popularity score of 34\n",
      "Lil Mouse has a popularity score of 34\n",
      "Lil C has a popularity score of 33\n",
      "Lil Rick has a popularity score of 39\n",
      "Lil June has a popularity score of 32\n",
      "Lil E has a popularity score of 34\n",
      "Lil Fate has a popularity score of 34\n",
      "Lil' Flip has a popularity score of 49\n"
     ]
    }
   ],
   "source": [
    "for artist in lil_artists:\n",
    "    print(artist['name'], \"has a popularity score of\", artist['popularity'])"
   ]
  },
  {
   "cell_type": "markdown",
   "metadata": {},
   "source": [
    "## 2) ##\n",
    "\n",
    "What genres are most represented in the search results? Edit your previous printout to also display a list of their genres in the format \"GENRE_1, GENRE_2, GENRE_3\". If there are no genres, print \"No genres listed\".\n",
    "Tip: \"how to join a list Python\" might be a helpful search"
   ]
  },
  {
   "cell_type": "code",
   "execution_count": 9,
   "metadata": {
    "collapsed": false
   },
   "outputs": [
    {
     "name": "stdout",
     "output_type": "stream",
     "text": [
      "These are the counts for each genre: Counter({'dirty south rap': 4, 'chicano rap': 3, 'hip pop': 3, 'southern hip hop': 3, 'crunk': 3, 'pop rap': 2, 'trap music': 2, 'latin hip hop': 1, 'deep trap': 1, 'soca': 1, 'juggalo': 1, 'freestyle': 1, 'jerk': 1})\n",
      "The most common genre is: [('dirty south rap', 4)]\n"
     ]
    }
   ],
   "source": [
    "#http://stackoverflow.com/questions/2600191/how-can-i-count-the-occurrences-of-a-list-item-in-python\n",
    "from collections import Counter\n",
    "genre_list = []\n",
    "for genre in lil_artists:\n",
    "    if genre['genres'] != []:\n",
    "        genre_list = genre['genres'] + genre_list\n",
    "c = Counter(genre_list)\n",
    "print(\"These are the counts for each genre:\", c)\n",
    "\n",
    "#https://docs.python.org/2/library/collections.html\n",
    "most_common = Counter(genre_list).most_common(1)\n",
    "print(\"The most common genre is:\",most_common)"
   ]
  },
  {
   "cell_type": "code",
   "execution_count": 10,
   "metadata": {
    "collapsed": false
   },
   "outputs": [
    {
     "name": "stdout",
     "output_type": "stream",
     "text": [
      "Lil Wayne has a popularity score of 86 This artist is associated with dirty south rap, pop rap, southern hip hop, trap music\n",
      "Lil Yachty has a popularity score of 72 But there are no genres listed for this artist.\n",
      "Lil Uzi Vert has a popularity score of 72 But there are no genres listed for this artist.\n",
      "Lil Dicky has a popularity score of 68 But there are no genres listed for this artist.\n",
      "Boosie Badazz has a popularity score of 67 But there are no genres listed for this artist.\n",
      "Lil Jon has a popularity score of 72 This artist is associated with crunk, dirty south rap, southern hip hop\n",
      "King Lil G has a popularity score of 61 But there are no genres listed for this artist.\n",
      "Lil Durk has a popularity score of 60 But there are no genres listed for this artist.\n",
      "Lil Jon & The East Side Boyz has a popularity score of 60 But there are no genres listed for this artist.\n",
      "Lil Bibby has a popularity score of 54 But there are no genres listed for this artist.\n",
      "G Herbo has a popularity score of 53 But there are no genres listed for this artist.\n",
      "Lil Rob has a popularity score of 50 This artist is associated with chicano rap, latin hip hop\n",
      "Lil Reese has a popularity score of 50 But there are no genres listed for this artist.\n",
      "Lil Keke has a popularity score of 48 But there are no genres listed for this artist.\n",
      "Bow Wow has a popularity score of 57 This artist is associated with hip pop, pop rap\n",
      "Lil Scrappy has a popularity score of 48 This artist is associated with crunk, dirty south rap, southern hip hop, trap music\n",
      "Lil Wyte has a popularity score of 50 This artist is associated with juggalo\n",
      "Lil Blood has a popularity score of 45 But there are no genres listed for this artist.\n",
      "Lil Snupe has a popularity score of 45 But there are no genres listed for this artist.\n",
      "Lil Mama has a popularity score of 45 This artist is associated with hip pop\n",
      "Lil B has a popularity score of 44 But there are no genres listed for this artist.\n",
      "Lil' Kim has a popularity score of 62 This artist is associated with hip pop\n",
      "Lil Cuete has a popularity score of 40 This artist is associated with chicano rap\n",
      "Lil Phat has a popularity score of 39 But there are no genres listed for this artist.\n",
      "Lil Debbie has a popularity score of 43 But there are no genres listed for this artist.\n",
      "Lil Twist has a popularity score of 39 This artist is associated with jerk\n",
      "Lil Trill has a popularity score of 37 This artist is associated with deep trap\n",
      "Lil Twon has a popularity score of 38 But there are no genres listed for this artist.\n",
      "Lil AJ has a popularity score of 37 But there are no genres listed for this artist.\n",
      "Lil Lonnie has a popularity score of 37 But there are no genres listed for this artist.\n",
      "Lil Boom has a popularity score of 35 But there are no genres listed for this artist.\n",
      "Lil Goofy has a popularity score of 35 But there are no genres listed for this artist.\n",
      "Mr. Lil One has a popularity score of 36 This artist is associated with chicano rap\n",
      "Lil Haiti has a popularity score of 36 But there are no genres listed for this artist.\n",
      "Lil Flash has a popularity score of 38 But there are no genres listed for this artist.\n",
      "Lil Kesh has a popularity score of 39 But there are no genres listed for this artist.\n",
      "Lil Cray has a popularity score of 35 But there are no genres listed for this artist.\n",
      "Lil Silva has a popularity score of 43 But there are no genres listed for this artist.\n",
      "Lil Rue has a popularity score of 34 But there are no genres listed for this artist.\n",
      "Lil Eddie has a popularity score of 41 But there are no genres listed for this artist.\n",
      "Lil Yase has a popularity score of 33 But there are no genres listed for this artist.\n",
      "Lil Wayne, DJ Drama has a popularity score of 35 But there are no genres listed for this artist.\n",
      "Lil Suzy has a popularity score of 34 This artist is associated with freestyle\n",
      "Lil Mouse has a popularity score of 34 But there are no genres listed for this artist.\n",
      "Lil C has a popularity score of 33 But there are no genres listed for this artist.\n",
      "Lil Rick has a popularity score of 39 This artist is associated with soca\n",
      "Lil June has a popularity score of 32 But there are no genres listed for this artist.\n",
      "Lil E has a popularity score of 34 But there are no genres listed for this artist.\n",
      "Lil Fate has a popularity score of 34 But there are no genres listed for this artist.\n",
      "Lil' Flip has a popularity score of 49 This artist is associated with crunk, dirty south rap\n"
     ]
    }
   ],
   "source": [
    "for artist in lil_artists:\n",
    "    if artist['genres'] == []:\n",
    "        print(artist['name'], \"has a popularity score of\", artist['popularity'], \n",
    "              \"But there are no genres listed for this artist.\")\n",
    "    else:\n",
    "        artist_genres = artist['genres']\n",
    "        print(artist['name'], \"has a popularity score of\", artist['popularity'],\n",
    "              \"This artist is associated with\", ', '.join(artist_genres))\n",
    "# http://stackoverflow.com/questions/5850986/joining-elements-of-a-list-python   "
   ]
  },
  {
   "cell_type": "markdown",
   "metadata": {},
   "source": [
    "## 3) ## \n",
    "Use a for loop to determine who BESIDES Lil Wayne has the highest popularity rating. "
   ]
  },
  {
   "cell_type": "code",
   "execution_count": 11,
   "metadata": {
    "collapsed": false
   },
   "outputs": [
    {
     "name": "stdout",
     "output_type": "stream",
     "text": [
      "Lil Wayne 86\n",
      "Lil Yachty is the second most popular with a popularity rating of 72 compared to Lil Wayne who has a rating of 86\n",
      "Lil Uzi Vert is the second most popular with a popularity rating of 72 compared to Lil Wayne who has a rating of 86\n",
      "Lil Jon is the second most popular with a popularity rating of 72 compared to Lil Wayne who has a rating of 86\n"
     ]
    }
   ],
   "source": [
    "most_popular_score = 0\n",
    "most_popular_name = []\n",
    "for artist in lil_artists:\n",
    "    if artist['popularity'] > most_popular_score:\n",
    "        most_popular_name = artist['name']\n",
    "        most_popular_score = artist['popularity']\n",
    "print(most_popular_name, most_popular_score)\n",
    "\n",
    "second_max_popular = 0\n",
    "for artist in lil_artists:\n",
    "    if artist['popularity'] >= second_max_popular and artist['popularity'] < most_popular_score:\n",
    "        second_max_popular = artist['popularity']\n",
    "        print(artist['name'], \"is the second most popular with a popularity rating of\",artist['popularity'], \"compared to\", most_popular_name, \"who has a rating of\", most_popular_score)\n",
    "    \n",
    "    "
   ]
  },
  {
   "cell_type": "markdown",
   "metadata": {
    "collapsed": true
   },
   "source": [
    "Is it the same artist who has the largest number of followers?"
   ]
  },
  {
   "cell_type": "code",
   "execution_count": 12,
   "metadata": {
    "collapsed": false
   },
   "outputs": [
    {
     "name": "stdout",
     "output_type": "stream",
     "text": [
      "Lil Wayne has the largest number followers: 2623941\n",
      "The second most popular Lils have the following amount of followers:\n",
      "Lil Yachty 37979\n",
      "Lil Uzi Vert 55228\n",
      "Lil Jon 256052\n"
     ]
    }
   ],
   "source": [
    "most_followers = 0\n",
    "for artist in lil_artists:\n",
    "    if artist['followers']['total'] > most_followers:\n",
    "        most_followers = artist['followers']['total']\n",
    "        print(artist['name'], \"has the largest number followers:\", artist['followers']['total'])\n",
    "print(\"The second most popular Lils have the following amount of followers:\")\n",
    "second_most_followers = 0\n",
    "for artist in lil_artists:\n",
    "    if artist['popularity'] >= second_max_popular and artist['popularity'] < 86:\n",
    "        second_max_popular = artist['popularity']\n",
    "        if artist['followers']['total'] > second_most_followers:\n",
    "            second_most_followers = artist['followers']['total']\n",
    "            print(artist['name'], artist['followers']['total'])"
   ]
  },
  {
   "cell_type": "markdown",
   "metadata": {
    "collapsed": true
   },
   "source": [
    "## 4) \n",
    "Print a list of Lil's that are more popular than Lil' Kim."
   ]
  },
  {
   "cell_type": "code",
   "execution_count": 13,
   "metadata": {
    "collapsed": false
   },
   "outputs": [
    {
     "name": "stdout",
     "output_type": "stream",
     "text": [
      "Lil Wayne has a popularity of 86 which is higher than that of Lil' Kim.\n",
      "Lil Yachty has a popularity of 72 which is higher than that of Lil' Kim.\n",
      "Lil Uzi Vert has a popularity of 72 which is higher than that of Lil' Kim.\n",
      "Lil Dicky has a popularity of 68 which is higher than that of Lil' Kim.\n",
      "Boosie Badazz has a popularity of 67 which is higher than that of Lil' Kim.\n",
      "Lil Jon has a popularity of 72 which is higher than that of Lil' Kim.\n"
     ]
    }
   ],
   "source": [
    "kim_popularity = 0\n",
    "for artist in lil_artists:\n",
    "    if artist['name'] == \"Lil' Kim\":\n",
    "        kim_popularity = (artist['popularity'])\n",
    "        for artist in lil_artists:\n",
    "            if artist['popularity'] > kim_popularity:\n",
    "                print(artist['name'], \"has a popularity of\", artist['popularity'], \"which is higher than that of Lil' Kim.\")"
   ]
  },
  {
   "cell_type": "markdown",
   "metadata": {},
   "source": [
    "## 5) \n",
    "Pick two of your favorite Lils to fight it out, and use their IDs to print out their top tracks.\n",
    "Tip: You're going to be making two separate requests, be sure you DO NOT save them into the same variable."
   ]
  },
  {
   "cell_type": "code",
   "execution_count": 14,
   "metadata": {
    "collapsed": false
   },
   "outputs": [
    {
     "name": "stdout",
     "output_type": "stream",
     "text": [
      "THESE ARE THE TOP TRACKS OF LIL DICKY:\n",
      "$ave Dat Money (feat. Fetty Wap & Rich Homie Quan)\n",
      "Professional Rapper (feat. Snoop Dogg)\n",
      "Lemme Freak\n",
      "Molly (feat. Brendon Urie of Panic at the Disco)\n",
      "Personality (feat. T Pain)\n",
      "White Crime\n",
      "Bruh...\n",
      "Pillow Talking (feat. Brain)\n",
      "Who Knew\n",
      "Oh Well (feat. Jace of Two-9)\n",
      "THESE ARE THE TOP TRACKS OF LIL JON:\n",
      "Turn Down for What\n",
      "Gasolina - DJ Buddah Remix\n",
      "Snap Yo Fingers\n",
      "Bend Ova\n",
      "Turn Down for What - Official Remix\n",
      "Culo\n",
      "Get Loose\n",
      "The Anthem\n",
      "Prison Riot\n",
      "Outta Your Mind\n"
     ]
    }
   ],
   "source": [
    "#for artist in lil_artists:\n",
    "    #print(artist['name'], artist['id'])\n",
    "#Lil Dicky 1tqhsYv8yBBdwANFNzHtcr\n",
    "\n",
    "toptracks_Dicky_response = requests.get('https://api.spotify.com/v1/artists/1tqhsYv8yBBdwANFNzHtcr/top-tracks?country=US')\n",
    "toptracks_Dicky_data = toptracks_Dicky_response.json()\n",
    "tracks_Dicky = toptracks_Dicky_data['tracks']\n",
    "\n",
    "print(\"THESE ARE THE TOP TRACKS OF LIL DICKY:\")\n",
    "for track in tracks_Dicky:\n",
    "    print(track['name'])\n",
    "\n",
    "#Lil Jon 7sfl4Xt5KmfyDs2T3SVSMK\n",
    "\n",
    "toptracks_Jon_response = requests.get('https://api.spotify.com/v1/artists/7sfl4Xt5KmfyDs2T3SVSMK/top-tracks?country=US')\n",
    "toptracks_Jon_data = toptracks_Jon_response.json()\n",
    "tracks_Jon = toptracks_Jon_data['tracks']\n",
    "\n",
    "print(\"THESE ARE THE TOP TRACKS OF LIL JON:\")\n",
    "for track in tracks_Jon:\n",
    "    print(track['name'])"
   ]
  },
  {
   "cell_type": "markdown",
   "metadata": {},
   "source": [
    "### 6) Will the world explode if a musicians swears? \n",
    "Get an average popularity for their explicit songs vs. their non-explicit songs."
   ]
  },
  {
   "cell_type": "code",
   "execution_count": 15,
   "metadata": {
    "collapsed": false
   },
   "outputs": [
    {
     "name": "stdout",
     "output_type": "stream",
     "text": [
      "dict_keys(['album', 'available_markets', 'external_ids', 'type', 'popularity', 'track_number', 'duration_ms', 'href', 'disc_number', 'id', 'preview_url', 'name', 'artists', 'explicit', 'external_urls', 'uri'])\n"
     ]
    }
   ],
   "source": [
    "print(tracks_Dicky[0].keys())"
   ]
  },
  {
   "cell_type": "markdown",
   "metadata": {},
   "source": [
    "#### First solution -- this felt like a lot of repeating and as if there was a more efficient way to do it. Turns out, there is! With some explanation from Soma first -- see below."
   ]
  },
  {
   "cell_type": "code",
   "execution_count": 16,
   "metadata": {
    "collapsed": false
   },
   "outputs": [
    {
     "name": "stdout",
     "output_type": "stream",
     "text": [
      "The average popularity of explicit Lil Dicky songs is 62.2\n",
      "There are no non-explicit Lil Dicky songs.\n",
      "The average popularity of explicit Lil Jon songs is 55.285714285714285\n",
      "The average popularity of non-explicit Lil Jon songs is: 71.33333333333333\n"
     ]
    }
   ],
   "source": [
    "explicit_Dicky_count = 0\n",
    "non_explicit_Dicky_count = 0\n",
    "explicit_popularity_Dicky_sum = 0\n",
    "non_explicit_popularity_Dicky_sum = 0\n",
    "for track in tracks_Dicky:\n",
    "    if track['explicit'] == True:\n",
    "        explicit_Dicky_count = explicit_Dicky_count + 1\n",
    "        explicit_popularity_Dicky_sum = explicit_popularity_Dicky_sum + track['popularity']\n",
    "    else:\n",
    "        non_explicit_Dicky_count = non_explicit_Dicky_count + 1\n",
    "        non_explicit_popularity_Dicky_sum = non_explicit_popularity_Dicky_sum + track['popularity']\n",
    "print(\"The average popularity of explicit Lil Dicky songs is\", explicit_popularity_Dicky_sum / explicit_Dicky_count)\n",
    "if non_explicit_Dicky_count == 0:\n",
    "    print(\"There are no non-explicit Lil Dicky songs.\")\n",
    "else:\n",
    "    print(\"The average popularity of non-explicit Lil Dicky songs is:\", non_explicit_popularity_Dicky_sum / non_explicit_Dicky_count)\n",
    "\n",
    "explicit_Jon_count = 0\n",
    "non_explicit_Jon_count = 0\n",
    "explicit_popularity_Jon_sum = 0\n",
    "non_explicit_popularity_Jon_sum = 0\n",
    "for track in tracks_Jon:\n",
    "    if track['explicit'] == True:\n",
    "        explicit_Jon_count = explicit_Jon_count + 1\n",
    "        explicit_popularity_Jon_sum = explicit_popularity_Jon_sum + track['popularity']\n",
    "    else:\n",
    "        non_explicit_Jon_count = non_explicit_Jon_count + 1\n",
    "        non_explicit_popularity_Jon_sum = non_explicit_popularity_Jon_sum + track['popularity']\n",
    "print(\"The average popularity of explicit Lil Jon songs is\", explicit_popularity_Jon_sum / explicit_Jon_count)\n",
    "if non_explicit_Jon_count == 0:\n",
    "    print(\"There are no non-explicit Lil Jon songs.\")\n",
    "else:\n",
    "    print(\"The average popularity of non-explicit Lil Jon songs is:\", non_explicit_popularity_Jon_sum / non_explicit_Jon_count)\n"
   ]
  },
  {
   "cell_type": "markdown",
   "metadata": {},
   "source": [
    "#### Soma explaining how to write functions in 30 seconds of Lab:"
   ]
  },
  {
   "cell_type": "code",
   "execution_count": 17,
   "metadata": {
    "collapsed": false
   },
   "outputs": [
    {
     "name": "stdout",
     "output_type": "stream",
     "text": [
      "the sum of 5 and 7 is 12\n",
      "the sum of 1 and 2 is 3\n",
      "the sum of 4 and 55 is 59\n"
     ]
    }
   ],
   "source": [
    "#function writing\n",
    "def add(a, b):\n",
    "    value = a + b\n",
    "    print(\"the sum of\", a, \"and\", b, \"is\", value)\n",
    "    \n",
    "add(5, 7)\n",
    "add(1, 2)\n",
    "add(4, 55)"
   ]
  },
  {
   "cell_type": "markdown",
   "metadata": {},
   "source": [
    "#### Based on that, I re-wrote my above code using a function"
   ]
  },
  {
   "cell_type": "code",
   "execution_count": 18,
   "metadata": {
    "collapsed": false
   },
   "outputs": [
    {
     "name": "stdout",
     "output_type": "stream",
     "text": [
      "The average popularity of explicit songs by Lil Dicky is 56.54545454545455\n",
      "There are no non-explicit songs by Lil Dicky\n",
      "The average popularity of explicit songs by Lil Jon is 35.18181818181818\n",
      "The average popularity of non-explicit songs by Lil Jon is 71.33333333333333\n"
     ]
    }
   ],
   "source": [
    "def average_popularity(a, b):\n",
    "    explicit_count = 0\n",
    "    non_explicit_count = 0\n",
    "    explicit_popularity_sum = 0\n",
    "    non_explicit_popularity_sum = 0\n",
    "    for track in a:\n",
    "        if track['explicit'] == True:\n",
    "            explicit_count = explicit_Dicky_count + 1\n",
    "            explicit_popularity_sum = explicit_popularity_sum + track['popularity']\n",
    "        else:\n",
    "            non_explicit_count = non_explicit_count + 1\n",
    "            non_explicit_popularity_sum = non_explicit_popularity_sum + track['popularity']\n",
    "    if explicit_count == 0:\n",
    "        print(\"There are no explicit songs by\", b)\n",
    "    else:\n",
    "        print(\"The average popularity of explicit songs by\", b, \"is\", explicit_popularity_sum / explicit_count)\n",
    "    if non_explicit_count == 0:\n",
    "        print(\"There are no non-explicit songs by\", b)\n",
    "    else:\n",
    "        print(\"The average popularity of non-explicit songs by\", b, \"is\", non_explicit_popularity_sum / non_explicit_count)\n",
    "\n",
    "average_popularity(tracks_Dicky, \"Lil Dicky\")\n",
    "average_popularity(tracks_Jon, \"Lil Jon\")"
   ]
  },
  {
   "cell_type": "markdown",
   "metadata": {},
   "source": [
    "### How many minutes of explicit songs do they have? Non-explicit?\n"
   ]
  },
  {
   "cell_type": "code",
   "execution_count": 19,
   "metadata": {
    "collapsed": false
   },
   "outputs": [
    {
     "name": "stdout",
     "output_type": "stream",
     "text": [
      "Lil Dicky has 2983157 minutes of explicit music.\n",
      "Lil Dicky has has no non-explicit music.\n",
      "Lil Jon has 1477258 minutes of explicit music.\n",
      "Lil Jon has 770825 minutes of non-explicit music.\n"
     ]
    }
   ],
   "source": [
    "def explicit_minutes(a, b):\n",
    "    explicit_minutes = 0\n",
    "    non_explicit_minutes = 0\n",
    "    for track in a:\n",
    "        if track['explicit'] == True:\n",
    "            explicit_minutes = explicit_minutes + track['duration_ms']\n",
    "        else:\n",
    "            non_explicit_minutes = non_explicit_minutes + track['duration_ms']\n",
    "    if explicit_minutes !=0:\n",
    "        print(b, \"has\", explicit_minutes, \"minutes of explicit music.\")\n",
    "    if non_explicit_minutes !=0:\n",
    "        print(b, \"has\", non_explicit_minutes, \"minutes of non-explicit music.\")\n",
    "    else:\n",
    "        print(b, \"has\", \"has no non-explicit music.\")\n",
    "\n",
    "explicit_minutes(tracks_Dicky, \"Lil Dicky\")\n",
    "explicit_minutes(tracks_Jon, \"Lil Jon\")"
   ]
  },
  {
   "cell_type": "markdown",
   "metadata": {},
   "source": [
    "### 7) Since we're talking about Lils, what about Biggies? \n",
    "How many total \"Biggie\" artists are there? How many total \"Lil\"s? If you made 1 request every 5 seconds, how long would it take to download information on all the Lils vs the Biggies?"
   ]
  },
  {
   "cell_type": "code",
   "execution_count": 20,
   "metadata": {
    "collapsed": false
   },
   "outputs": [
    {
     "name": "stdout",
     "output_type": "stream",
     "text": [
      "There are in total 49 Biggies.\n"
     ]
    }
   ],
   "source": [
    "import requests\n",
    "biggieT_response = requests.get('https://api.spotify.com/v1/search?query=biggie&type=artist&limit=50')\n",
    "biggieT_data = biggieT_response.json()\n",
    "biggieT_artists = biggieT_data['artists']['items']\n",
    "\n",
    "artist_count = 0\n",
    "for artist in biggieT_artists:\n",
    "    artist_count = artist_count + 1\n",
    "print(\"There are in total\", artist_count, \"Biggies.\")"
   ]
  },
  {
   "cell_type": "code",
   "execution_count": 44,
   "metadata": {
    "collapsed": false
   },
   "outputs": [
    {
     "name": "stdout",
     "output_type": "stream",
     "text": [
      "The page count for all the Lils is: 91\n",
      "If you made 1 request every 5 seconds, it will take 455 seconds for all the Lils requests to process. Whereas for the Biggies it's only one request, so the total amount of time is 460 seconds.\n"
     ]
    }
   ],
   "source": [
    "offset_value = 0\n",
    "lilT_response = requests.get('https://api.spotify.com/v1/search?query=lil&type=artist&limit=50&offset=' + str(offset_value) + '')\n",
    "lilT_data = lilT_response.json()\n",
    "lilT_artists = lilT_data['artists']['items']\n",
    "offset_limit = lilT_data['artists']['total']\n",
    "\n",
    "import math\n",
    "page_count = math.ceil(offset_limit/ 50)\n",
    "print(\"The page count for all the Lils is:\", page_count)\n",
    "print(\"If you made 1 request every 5 seconds, it will take\", page_count * 5, \"seconds for all the Lils requests to process. Whereas for the Biggies it's only one request, so the total amount of time is\", page_count*5+5, \"seconds.\")"
   ]
  },
  {
   "cell_type": "code",
   "execution_count": 40,
   "metadata": {
    "collapsed": false
   },
   "outputs": [
    {
     "name": "stdout",
     "output_type": "stream",
     "text": [
      "There are in total 4502 Lils.\n"
     ]
    }
   ],
   "source": [
    "artist_count = 0\n",
    "offset_value = 0\n",
    "for page in range(0, 91):\n",
    "    lilT_response = requests.get('https://api.spotify.com/v1/search?query=lil&type=artist&limit=50&offset=' + str(offset_value) + '')\n",
    "    lilT_data = lilT_response.json()\n",
    "    lilT_artists = lilT_data['artists']['items']\n",
    "\n",
    "    for artist in lilT_artists:\n",
    "        artist_count = artist_count + 1\n",
    "    offset_value = offset_value + 50\n",
    "print(\"There are in total\", artist_count, \"Lils.\")"
   ]
  },
  {
   "cell_type": "markdown",
   "metadata": {},
   "source": [
    "### 8) Out of the top 50 \"Lil\"s and the top 50 \"Biggie\"s, who is more popular on average?"
   ]
  },
  {
   "cell_type": "code",
   "execution_count": 22,
   "metadata": {
    "collapsed": false
   },
   "outputs": [
    {
     "name": "stdout",
     "output_type": "stream",
     "text": [
      "The average popularity of the top50 Biggies is 3.86\n",
      "The average popularity of the top50 Lils is 46.16\n",
      "The top50 Lils are on average more popular than the top50 Biggies.\n"
     ]
    }
   ],
   "source": [
    "# tried to solve it with a function as well, but didn't work out, gave an error message. So back to the old way.\n",
    "\n",
    "biggie50_response = requests.get('https://api.spotify.com/v1/search?query=biggie&type=artist&limit=50')\n",
    "biggie50_data = biggie50_response.json()\n",
    "biggie50_artists = biggie50_data['artists']['items']\n",
    "popularity_biggie50 = 0\n",
    "for artist in biggie50_artists:\n",
    "    popularity_biggie50 = popularity_biggie50 + artist['popularity']\n",
    "print(\"The average popularity of the top50 Biggies is\", popularity_biggie50 / 50)\n",
    "\n",
    "lil50_response = requests.get('https://api.spotify.com/v1/search?query=lil&type=artist&limit=50')\n",
    "lil50_data = lil50_response.json()\n",
    "lil50_artists = lil50_data['artists']['items']\n",
    "popularity_lil50 = 0\n",
    "for artist in lil50_artists:\n",
    "    popularity_lil50 = popularity_lil50 + artist['popularity']\n",
    "print(\"The average popularity of the top50 Lils is\", popularity_lil50 / 50)\n",
    "\n",
    "if popularity_biggie50 > popularity_lil50:\n",
    "    print(\"The top50 Biggies are on average more popular than the top50 Lils.\")\n",
    "if popularity_biggie50 == popularity_lil50:\n",
    "    print(\"The top50 Biggies are on average as popular as the top50 Lils.\")\n",
    "else:\n",
    "    print(\"The top50 Lils are on average more popular than the top50 Biggies.\")"
   ]
  }
 ],
 "metadata": {
  "kernelspec": {
   "display_name": "Python 3",
   "language": "python",
   "name": "python3"
  },
  "language_info": {
   "codemirror_mode": {
    "name": "ipython",
    "version": 3
   },
   "file_extension": ".py",
   "mimetype": "text/x-python",
   "name": "python",
   "nbconvert_exporter": "python",
   "pygments_lexer": "ipython3",
   "version": "3.4.3"
  }
 },
 "nbformat": 4,
 "nbformat_minor": 0
}
