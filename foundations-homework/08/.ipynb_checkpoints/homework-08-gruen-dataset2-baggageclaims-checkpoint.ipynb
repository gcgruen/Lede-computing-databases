{
 "cells": [
  {
   "cell_type": "markdown",
   "metadata": {},
   "source": [
    "# Homework 8: Dataset 2: Baggage claims"
   ]
  },
  {
   "cell_type": "markdown",
   "metadata": {},
   "source": [
    "* Open your dataset up using pandas in a Jupyter notebook\n",
    "* Do a .head() to get a feel for your data\n",
    "* Write down 12 questions to ask your data, or 12 things to hunt for in the data\n",
    "* Attempt to answer those ten questions using the magic of pandas\n",
    "* Make three charts with your dataset\n",
    "* Keep track of anything that was problematic - it can be non-standard country names, extra spaces in columns, trouble getting multiple colors in scatterplots, whatever you'd like."
   ]
  },
  {
   "cell_type": "code",
   "execution_count": 1,
   "metadata": {
    "collapsed": true
   },
   "outputs": [],
   "source": [
    "import pandas as pd\n",
    "import matplotlib.pyplot as plt\n",
    "% matplotlib inline"
   ]
  },
  {
   "cell_type": "code",
   "execution_count": 2,
   "metadata": {
    "collapsed": true
   },
   "outputs": [],
   "source": [
    "df=pd.read_csv('baggageclaims_data.csv')"
   ]
  },
  {
   "cell_type": "code",
   "execution_count": 4,
   "metadata": {
    "collapsed": false
   },
   "outputs": [
    {
     "data": {
      "text/html": [
       "<div>\n",
       "<table border=\"1\" class=\"dataframe\">\n",
       "  <thead>\n",
       "    <tr style=\"text-align: right;\">\n",
       "      <th></th>\n",
       "      <th>Claim Number</th>\n",
       "      <th>Date Received</th>\n",
       "      <th>Incident D</th>\n",
       "      <th>Airport Code</th>\n",
       "      <th>Airport Name</th>\n",
       "      <th>Airline Name</th>\n",
       "      <th>Claim Type</th>\n",
       "      <th>Claim Site</th>\n",
       "      <th>Item Category</th>\n",
       "      <th>Close Amount</th>\n",
       "      <th>Disposition</th>\n",
       "    </tr>\n",
       "  </thead>\n",
       "  <tbody>\n",
       "    <tr>\n",
       "      <th>0</th>\n",
       "      <td>2015060222904</td>\n",
       "      <td>28-May-15</td>\n",
       "      <td>21-May-15</td>\n",
       "      <td>ABE</td>\n",
       "      <td>Lehigh Valley International Airport, Allentown</td>\n",
       "      <td>Allegiant Air</td>\n",
       "      <td>Property Damage</td>\n",
       "      <td>Checkpoint</td>\n",
       "      <td>Personal Electronics</td>\n",
       "      <td>$0.00</td>\n",
       "      <td>Deny</td>\n",
       "    </tr>\n",
       "    <tr>\n",
       "      <th>1</th>\n",
       "      <td>2015082725115</td>\n",
       "      <td>21-Aug-15</td>\n",
       "      <td>1-Aug-15</td>\n",
       "      <td>ABE</td>\n",
       "      <td>Lehigh Valley International Airport, Allentown</td>\n",
       "      <td>-</td>\n",
       "      <td>Property Damage</td>\n",
       "      <td>Checked Baggage</td>\n",
       "      <td>Sporting Equipment &amp; Supplies</td>\n",
       "      <td>$180.00</td>\n",
       "      <td>Settle</td>\n",
       "    </tr>\n",
       "    <tr>\n",
       "      <th>2</th>\n",
       "      <td>2015102326219</td>\n",
       "      <td>7-Oct-15</td>\n",
       "      <td>2-Oct-15</td>\n",
       "      <td>ABE</td>\n",
       "      <td>Lehigh Valley International Airport, Allentown</td>\n",
       "      <td>Allegiant Air</td>\n",
       "      <td>Passenger Property Loss</td>\n",
       "      <td>Checked Baggage</td>\n",
       "      <td>Clothing</td>\n",
       "      <td>$60.00</td>\n",
       "      <td>Approve in Full</td>\n",
       "    </tr>\n",
       "    <tr>\n",
       "      <th>3</th>\n",
       "      <td>2015122027695</td>\n",
       "      <td>27-Oct-15</td>\n",
       "      <td>19-Oct-15</td>\n",
       "      <td>ABE</td>\n",
       "      <td>Lehigh Valley International Airport, Allentown</td>\n",
       "      <td>Allegiant Air</td>\n",
       "      <td>Property Damage</td>\n",
       "      <td>Checkpoint</td>\n",
       "      <td>Personal Accessories</td>\n",
       "      <td>-</td>\n",
       "      <td>-</td>\n",
       "    </tr>\n",
       "    <tr>\n",
       "      <th>4</th>\n",
       "      <td>2015012220065</td>\n",
       "      <td>22-Jan-15</td>\n",
       "      <td>23-Dec-14</td>\n",
       "      <td>ABI</td>\n",
       "      <td>Abilene Regional</td>\n",
       "      <td>American Airlines</td>\n",
       "      <td>Property Damage</td>\n",
       "      <td>Checked Baggage</td>\n",
       "      <td>Home Decor</td>\n",
       "      <td>$0.00</td>\n",
       "      <td>Deny</td>\n",
       "    </tr>\n",
       "  </tbody>\n",
       "</table>\n",
       "</div>"
      ],
      "text/plain": [
       "    Claim Number Date Received Incident D Airport Code  \\\n",
       "0  2015060222904     28-May-15  21-May-15          ABE   \n",
       "1  2015082725115     21-Aug-15   1-Aug-15          ABE   \n",
       "2  2015102326219      7-Oct-15   2-Oct-15          ABE   \n",
       "3  2015122027695     27-Oct-15  19-Oct-15          ABE   \n",
       "4  2015012220065     22-Jan-15  23-Dec-14          ABI   \n",
       "\n",
       "                                     Airport Name         Airline Name  \\\n",
       "0  Lehigh Valley International Airport, Allentown        Allegiant Air   \n",
       "1  Lehigh Valley International Airport, Allentown                    -   \n",
       "2  Lehigh Valley International Airport, Allentown        Allegiant Air   \n",
       "3  Lehigh Valley International Airport, Allentown        Allegiant Air   \n",
       "4                                Abilene Regional  American Airlines     \n",
       "\n",
       "                Claim Type       Claim Site                  Item Category  \\\n",
       "0          Property Damage       Checkpoint           Personal Electronics   \n",
       "1          Property Damage  Checked Baggage  Sporting Equipment & Supplies   \n",
       "2  Passenger Property Loss  Checked Baggage                       Clothing   \n",
       "3          Property Damage       Checkpoint           Personal Accessories   \n",
       "4          Property Damage  Checked Baggage                     Home Decor   \n",
       "\n",
       "  Close Amount      Disposition  \n",
       "0       $0.00              Deny  \n",
       "1     $180.00            Settle  \n",
       "2      $60.00   Approve in Full  \n",
       "3            -                -  \n",
       "4       $0.00              Deny  "
      ]
     },
     "execution_count": 4,
     "metadata": {},
     "output_type": "execute_result"
    }
   ],
   "source": [
    "df.head()"
   ]
  },
  {
   "cell_type": "markdown",
   "metadata": {},
   "source": [
    "## 1) Which claim type is the most common?"
   ]
  },
  {
   "cell_type": "code",
   "execution_count": 5,
   "metadata": {
    "collapsed": false
   },
   "outputs": [
    {
     "data": {
      "text/plain": [
       "Index(['Claim Number', 'Date Received', 'Incident D', 'Airport Code',\n",
       "       'Airport Name', 'Airline Name', 'Claim Type', 'Claim Site',\n",
       "       'Item Category', 'Close Amount', 'Disposition'],\n",
       "      dtype='object')"
      ]
     },
     "execution_count": 5,
     "metadata": {},
     "output_type": "execute_result"
    }
   ],
   "source": [
    "df.columns"
   ]
  },
  {
   "cell_type": "code",
   "execution_count": 6,
   "metadata": {
    "collapsed": false
   },
   "outputs": [
    {
     "data": {
      "text/plain": [
       "Passenger Property Loss    4551\n",
       "Property Damage            3888\n",
       "Personal Injury             122\n",
       "Motor Vehicle                35\n",
       "-                            34\n",
       "Complaint                    28\n",
       "Employee Loss (MPCECA)        9\n",
       "Name: Claim Type, dtype: int64"
      ]
     },
     "execution_count": 6,
     "metadata": {},
     "output_type": "execute_result"
    }
   ],
   "source": [
    "df['Claim Type'].value_counts()\n",
    "#Passenger Property Loss is most common claim type"
   ]
  },
  {
   "cell_type": "markdown",
   "metadata": {},
   "source": [
    "## 2. How do airlines compare on this most common claim type?"
   ]
  },
  {
   "cell_type": "code",
   "execution_count": 92,
   "metadata": {
    "collapsed": false
   },
   "outputs": [
    {
     "data": {
      "text/plain": [
       "Passenger Property Loss    4551\n",
       "Name: Claim Type, dtype: int64"
      ]
     },
     "execution_count": 92,
     "metadata": {},
     "output_type": "execute_result"
    }
   ],
   "source": [
    "loss = df[df['Claim Type'] == 'Passenger Property Loss']\n",
    "loss['Claim Type'].value_counts()"
   ]
  },
  {
   "cell_type": "code",
   "execution_count": 62,
   "metadata": {
    "collapsed": false
   },
   "outputs": [
    {
     "data": {
      "text/plain": [
       "Airline Name            Claim Type             \n",
       "Turkish Airlines        Passenger Property Loss     12\n",
       "Etihad Airways          Passenger Property Loss     17\n",
       "Emirates                Passenger Property Loss     21\n",
       "Westjet Airlines Ltd    Passenger Property Loss     26\n",
       "Lufthansa               Passenger Property Loss     27\n",
       "Air Canada              Passenger Property Loss     29\n",
       "Virgin America          Passenger Property Loss     43\n",
       "Allegiant Air           Passenger Property Loss     51\n",
       "Hawaiian Airlines       Passenger Property Loss     70\n",
       "Spirit Airlines         Passenger Property Loss     80\n",
       "British Airways         Passenger Property Loss     87\n",
       "Frontier Airlines       Passenger Property Loss     94\n",
       "Alaska Airlines         Passenger Property Loss    203\n",
       "Jet Blue                Passenger Property Loss    223\n",
       "-                       Passenger Property Loss    225\n",
       "USAir                   Passenger Property Loss    326\n",
       "UAL                     Passenger Property Loss    578\n",
       "American Airlines       Passenger Property Loss    628\n",
       "Delta Air Lines         Passenger Property Loss    680\n",
       "Southwest Airlines      Passenger Property Loss    851\n",
       "Name: Claim Type, dtype: int64"
      ]
     },
     "execution_count": 62,
     "metadata": {},
     "output_type": "execute_result"
    }
   ],
   "source": [
    "loss_by_airline = loss.groupby('Airline Name')['Claim Type'].value_counts()\n",
    "loss_by_airline.sort_values().tail(20)"
   ]
  },
  {
   "cell_type": "code",
   "execution_count": 183,
   "metadata": {
    "collapsed": false
   },
   "outputs": [
    {
     "ename": "IndexError",
     "evalue": "index 203 is out of bounds for axis 1 with size 106",
     "output_type": "error",
     "traceback": [
      "\u001b[1;31m---------------------------------------------------------------------------\u001b[0m",
      "\u001b[1;31mIndexError\u001b[0m                                Traceback (most recent call last)",
      "\u001b[1;32mc:\\users\\gianna-carina\\appdata\\local\\programs\\python\\python35-32\\lib\\site-packages\\pandas\\core\\series.py\u001b[0m in \u001b[0;36m_get_values\u001b[1;34m(self, indexer)\u001b[0m\n\u001b[0;32m    690\u001b[0m         \u001b[1;32mtry\u001b[0m\u001b[1;33m:\u001b[0m\u001b[1;33m\u001b[0m\u001b[0m\n\u001b[1;32m--> 691\u001b[1;33m             return self._constructor(self._data.get_slice(indexer),\n\u001b[0m\u001b[0;32m    692\u001b[0m                                      fastpath=True).__finalize__(self)\n",
      "\u001b[1;32mc:\\users\\gianna-carina\\appdata\\local\\programs\\python\\python35-32\\lib\\site-packages\\pandas\\core\\internals.py\u001b[0m in \u001b[0;36mget_slice\u001b[1;34m(self, slobj, axis)\u001b[0m\n\u001b[0;32m   3871\u001b[0m \u001b[1;33m\u001b[0m\u001b[0m\n\u001b[1;32m-> 3872\u001b[1;33m         return self.__class__(self._block._slice(slobj),\n\u001b[0m\u001b[0;32m   3873\u001b[0m                               self.index[slobj], fastpath=True)\n",
      "\u001b[1;32mc:\\users\\gianna-carina\\appdata\\local\\programs\\python\\python35-32\\lib\\site-packages\\pandas\\core\\internals.py\u001b[0m in \u001b[0;36m_slice\u001b[1;34m(self, slicer)\u001b[0m\n\u001b[0;32m    226\u001b[0m         \u001b[1;34m\"\"\" return a slice of my values \"\"\"\u001b[0m\u001b[1;33m\u001b[0m\u001b[0m\n\u001b[1;32m--> 227\u001b[1;33m         \u001b[1;32mreturn\u001b[0m \u001b[0mself\u001b[0m\u001b[1;33m.\u001b[0m\u001b[0mvalues\u001b[0m\u001b[1;33m[\u001b[0m\u001b[0mslicer\u001b[0m\u001b[1;33m]\u001b[0m\u001b[1;33m\u001b[0m\u001b[0m\n\u001b[0m\u001b[0;32m    228\u001b[0m \u001b[1;33m\u001b[0m\u001b[0m\n",
      "\u001b[1;31mIndexError\u001b[0m: index 203 is out of bounds for axis 1 with size 106",
      "\nDuring handling of the above exception, another exception occurred:\n",
      "\u001b[1;31mIndexError\u001b[0m                                Traceback (most recent call last)",
      "\u001b[1;32m<ipython-input-183-51bd1cdd8177>\u001b[0m in \u001b[0;36m<module>\u001b[1;34m()\u001b[0m\n\u001b[1;32m----> 1\u001b[1;33m \u001b[0mloss_by_airline\u001b[0m\u001b[1;33m[\u001b[0m\u001b[0mloss_by_airline\u001b[0m\u001b[1;33m.\u001b[0m\u001b[0msort_values\u001b[0m\u001b[1;33m(\u001b[0m\u001b[1;33m)\u001b[0m\u001b[1;33m.\u001b[0m\u001b[0mtail\u001b[0m\u001b[1;33m(\u001b[0m\u001b[1;36m20\u001b[0m\u001b[1;33m)\u001b[0m\u001b[1;33m]\u001b[0m\u001b[1;33m.\u001b[0m\u001b[0mplt\u001b[0m\u001b[1;33m(\u001b[0m\u001b[0mkind\u001b[0m\u001b[1;33m=\u001b[0m\u001b[1;34m'barh'\u001b[0m\u001b[1;33m,\u001b[0m \u001b[0mxlim\u001b[0m\u001b[1;33m=\u001b[0m\u001b[1;33m(\u001b[0m\u001b[1;36m0\u001b[0m\u001b[1;33m,\u001b[0m\u001b[1;36m900\u001b[0m\u001b[1;33m)\u001b[0m\u001b[1;33m,\u001b[0m \u001b[0mylim\u001b[0m\u001b[1;33m=\u001b[0m\u001b[1;33m(\u001b[0m\u001b[1;36m0\u001b[0m\u001b[1;33m,\u001b[0m\u001b[1;36m900\u001b[0m\u001b[1;33m)\u001b[0m\u001b[1;33m)\u001b[0m\u001b[1;33m\u001b[0m\u001b[0m\n\u001b[0m",
      "\u001b[1;32mc:\\users\\gianna-carina\\appdata\\local\\programs\\python\\python35-32\\lib\\site-packages\\pandas\\core\\series.py\u001b[0m in \u001b[0;36m__getitem__\u001b[1;34m(self, key)\u001b[0m\n\u001b[0;32m    622\u001b[0m             \u001b[0mkey\u001b[0m \u001b[1;33m=\u001b[0m \u001b[0mcheck_bool_indexer\u001b[0m\u001b[1;33m(\u001b[0m\u001b[0mself\u001b[0m\u001b[1;33m.\u001b[0m\u001b[0mindex\u001b[0m\u001b[1;33m,\u001b[0m \u001b[0mkey\u001b[0m\u001b[1;33m)\u001b[0m\u001b[1;33m\u001b[0m\u001b[0m\n\u001b[0;32m    623\u001b[0m \u001b[1;33m\u001b[0m\u001b[0m\n\u001b[1;32m--> 624\u001b[1;33m         \u001b[1;32mreturn\u001b[0m \u001b[0mself\u001b[0m\u001b[1;33m.\u001b[0m\u001b[0m_get_with\u001b[0m\u001b[1;33m(\u001b[0m\u001b[0mkey\u001b[0m\u001b[1;33m)\u001b[0m\u001b[1;33m\u001b[0m\u001b[0m\n\u001b[0m\u001b[0;32m    625\u001b[0m \u001b[1;33m\u001b[0m\u001b[0m\n\u001b[0;32m    626\u001b[0m     \u001b[1;32mdef\u001b[0m \u001b[0m_get_with\u001b[0m\u001b[1;33m(\u001b[0m\u001b[0mself\u001b[0m\u001b[1;33m,\u001b[0m \u001b[0mkey\u001b[0m\u001b[1;33m)\u001b[0m\u001b[1;33m:\u001b[0m\u001b[1;33m\u001b[0m\u001b[0m\n",
      "\u001b[1;32mc:\\users\\gianna-carina\\appdata\\local\\programs\\python\\python35-32\\lib\\site-packages\\pandas\\core\\series.py\u001b[0m in \u001b[0;36m_get_with\u001b[1;34m(self, key)\u001b[0m\n\u001b[0;32m    656\u001b[0m                     \u001b[1;32mreturn\u001b[0m \u001b[0mself\u001b[0m\u001b[1;33m.\u001b[0m\u001b[0mreindex\u001b[0m\u001b[1;33m(\u001b[0m\u001b[0mkey\u001b[0m\u001b[1;33m)\u001b[0m\u001b[1;33m\u001b[0m\u001b[0m\n\u001b[0;32m    657\u001b[0m                 \u001b[1;32melse\u001b[0m\u001b[1;33m:\u001b[0m\u001b[1;33m\u001b[0m\u001b[0m\n\u001b[1;32m--> 658\u001b[1;33m                     \u001b[1;32mreturn\u001b[0m \u001b[0mself\u001b[0m\u001b[1;33m.\u001b[0m\u001b[0m_get_values\u001b[0m\u001b[1;33m(\u001b[0m\u001b[0mkey\u001b[0m\u001b[1;33m)\u001b[0m\u001b[1;33m\u001b[0m\u001b[0m\n\u001b[0m\u001b[0;32m    659\u001b[0m             \u001b[1;32melif\u001b[0m \u001b[0mkey_type\u001b[0m \u001b[1;33m==\u001b[0m \u001b[1;34m'boolean'\u001b[0m\u001b[1;33m:\u001b[0m\u001b[1;33m\u001b[0m\u001b[0m\n\u001b[0;32m    660\u001b[0m                 \u001b[1;32mreturn\u001b[0m \u001b[0mself\u001b[0m\u001b[1;33m.\u001b[0m\u001b[0m_get_values\u001b[0m\u001b[1;33m(\u001b[0m\u001b[0mkey\u001b[0m\u001b[1;33m)\u001b[0m\u001b[1;33m\u001b[0m\u001b[0m\n",
      "\u001b[1;32mc:\\users\\gianna-carina\\appdata\\local\\programs\\python\\python35-32\\lib\\site-packages\\pandas\\core\\series.py\u001b[0m in \u001b[0;36m_get_values\u001b[1;34m(self, indexer)\u001b[0m\n\u001b[0;32m    692\u001b[0m                                      fastpath=True).__finalize__(self)\n\u001b[0;32m    693\u001b[0m         \u001b[1;32mexcept\u001b[0m \u001b[0mException\u001b[0m\u001b[1;33m:\u001b[0m\u001b[1;33m\u001b[0m\u001b[0m\n\u001b[1;32m--> 694\u001b[1;33m             \u001b[1;32mreturn\u001b[0m \u001b[0mself\u001b[0m\u001b[1;33m.\u001b[0m\u001b[0m_values\u001b[0m\u001b[1;33m[\u001b[0m\u001b[0mindexer\u001b[0m\u001b[1;33m]\u001b[0m\u001b[1;33m\u001b[0m\u001b[0m\n\u001b[0m\u001b[0;32m    695\u001b[0m \u001b[1;33m\u001b[0m\u001b[0m\n\u001b[0;32m    696\u001b[0m     \u001b[1;32mdef\u001b[0m \u001b[0m__setitem__\u001b[0m\u001b[1;33m(\u001b[0m\u001b[0mself\u001b[0m\u001b[1;33m,\u001b[0m \u001b[0mkey\u001b[0m\u001b[1;33m,\u001b[0m \u001b[0mvalue\u001b[0m\u001b[1;33m)\u001b[0m\u001b[1;33m:\u001b[0m\u001b[1;33m\u001b[0m\u001b[0m\n",
      "\u001b[1;31mIndexError\u001b[0m: index 203 is out of bounds for axis 1 with size 106"
     ]
    }
   ],
   "source": [
    "loss_by_airline[loss_by_airline.sort_values().tail(20)].plt(kind='barh', xlim=(0,900), ylim=(0,900))"
   ]
  },
  {
   "cell_type": "markdown",
   "metadata": {},
   "source": [
    "## 3. How does most common claimtype disperse over item categories?"
   ]
  },
  {
   "cell_type": "code",
   "execution_count": 91,
   "metadata": {
    "collapsed": false
   },
   "outputs": [
    {
     "data": {
      "text/plain": [
       "Item Category                         Claim Type             \n",
       "Jewelry & Watches; Jewelry & Watches  Passenger Property Loss     39\n",
       "Automobile Parts & Accessories        Passenger Property Loss     40\n",
       "Tools & Home Improvement Supplies     Passenger Property Loss     47\n",
       "Audio/Video                           Passenger Property Loss     54\n",
       "Sporting Equipment & Supplies         Passenger Property Loss     71\n",
       "Hunting & Fishing Items               Passenger Property Loss     77\n",
       "Cameras                               Passenger Property Loss     83\n",
       "Medical/Science                       Passenger Property Loss    100\n",
       "Food & Drink                          Passenger Property Loss    111\n",
       "Baggage/Cases/Purses                  Passenger Property Loss    122\n",
       "Currency                              Passenger Property Loss    133\n",
       "Personal Accessories                  Passenger Property Loss    149\n",
       "Computer & Accessories                Passenger Property Loss    227\n",
       "Cosmetics & Grooming                  Passenger Property Loss    232\n",
       "Personal Electronics                  Passenger Property Loss    246\n",
       "-                                     Passenger Property Loss    309\n",
       "Other                                 Passenger Property Loss    327\n",
       "Travel Accessories                    Passenger Property Loss    333\n",
       "Jewelry & Watches                     Passenger Property Loss    448\n",
       "Clothing                              Passenger Property Loss    480\n",
       "Name: Claim Type, dtype: int64"
      ]
     },
     "execution_count": 91,
     "metadata": {},
     "output_type": "execute_result"
    }
   ],
   "source": [
    "loss_by_item = loss.groupby('Item Category')['Claim Type'].value_counts()\n",
    "loss_by_item.sort_values().tail(20)"
   ]
  },
  {
   "cell_type": "markdown",
   "metadata": {},
   "source": [
    "## 4. Is there a correlation between the ten most lost items and when these get lost?"
   ]
  },
  {
   "cell_type": "code",
   "execution_count": 144,
   "metadata": {
    "collapsed": false
   },
   "outputs": [
    {
     "ename": "ValueError",
     "evalue": "First argument must be a sequence",
     "output_type": "error",
     "traceback": [
      "\u001b[1;31m---------------------------------------------------------------------------\u001b[0m",
      "\u001b[1;31mValueError\u001b[0m                                Traceback (most recent call last)",
      "\u001b[1;32m<ipython-input-144-54876b4b6e9a>\u001b[0m in \u001b[0;36m<module>\u001b[1;34m()\u001b[0m\n\u001b[0;32m      6\u001b[0m \u001b[0mComputer\u001b[0m \u001b[1;33m=\u001b[0m \u001b[0mdf\u001b[0m\u001b[1;33m[\u001b[0m\u001b[0mdf\u001b[0m\u001b[1;33m[\u001b[0m\u001b[1;34m'Item Category'\u001b[0m\u001b[1;33m]\u001b[0m \u001b[1;33m==\u001b[0m \u001b[1;34m'Computer & Accessories'\u001b[0m\u001b[1;33m]\u001b[0m\u001b[1;33m\u001b[0m\u001b[0m\n\u001b[0;32m      7\u001b[0m \u001b[1;33m\u001b[0m\u001b[0m\n\u001b[1;32m----> 8\u001b[1;33m \u001b[0mplt\u001b[0m\u001b[1;33m.\u001b[0m\u001b[0mscatter\u001b[0m\u001b[1;33m(\u001b[0m\u001b[0my\u001b[0m\u001b[1;33m=\u001b[0m \u001b[0mClothing\u001b[0m\u001b[1;33m[\u001b[0m\u001b[1;34m\"Date Received\"\u001b[0m\u001b[1;33m]\u001b[0m\u001b[1;33m,\u001b[0m \u001b[0mx\u001b[0m\u001b[1;33m=\u001b[0m \u001b[0mClothing\u001b[0m\u001b[1;33m[\u001b[0m\u001b[1;34m\"Date Received\"\u001b[0m\u001b[1;33m]\u001b[0m\u001b[1;33m,\u001b[0m \u001b[0mc\u001b[0m\u001b[1;33m=\u001b[0m\u001b[1;34m'c'\u001b[0m\u001b[1;33m,\u001b[0m \u001b[0malpha\u001b[0m\u001b[1;33m=\u001b[0m\u001b[1;36m0.75\u001b[0m\u001b[1;33m,\u001b[0m \u001b[0mmarker\u001b[0m\u001b[1;33m=\u001b[0m\u001b[1;34m'x'\u001b[0m\u001b[1;33m)\u001b[0m\u001b[1;33m\u001b[0m\u001b[0m\n\u001b[0m\u001b[0;32m      9\u001b[0m \u001b[1;33m\u001b[0m\u001b[0m\n\u001b[0;32m     10\u001b[0m \u001b[0mplt\u001b[0m\u001b[1;33m.\u001b[0m\u001b[0mscatter\u001b[0m\u001b[1;33m(\u001b[0m\u001b[0my\u001b[0m\u001b[1;33m=\u001b[0m \u001b[0mJewelry\u001b[0m\u001b[1;33m[\u001b[0m\u001b[1;34m\"Date Received\"\u001b[0m\u001b[1;33m]\u001b[0m\u001b[1;33m,\u001b[0m \u001b[0mx\u001b[0m\u001b[1;33m=\u001b[0m \u001b[0mJewelry\u001b[0m\u001b[1;33m[\u001b[0m\u001b[1;34m\"Date Received\"\u001b[0m\u001b[1;33m]\u001b[0m\u001b[1;33m,\u001b[0m \u001b[0mc\u001b[0m\u001b[1;33m=\u001b[0m\u001b[1;34m'y'\u001b[0m\u001b[1;33m,\u001b[0m \u001b[0malpha\u001b[0m\u001b[1;33m=\u001b[0m\u001b[1;36m0.75\u001b[0m\u001b[1;33m,\u001b[0m \u001b[0mmarker\u001b[0m\u001b[1;33m=\u001b[0m\u001b[1;34m'o'\u001b[0m\u001b[1;33m)\u001b[0m\u001b[1;33m\u001b[0m\u001b[0m\n",
      "\u001b[1;32mc:\\users\\gianna-carina\\appdata\\local\\programs\\python\\python35-32\\lib\\site-packages\\matplotlib\\pyplot.py\u001b[0m in \u001b[0;36mscatter\u001b[1;34m(x, y, s, c, marker, cmap, norm, vmin, vmax, alpha, linewidths, verts, edgecolors, hold, data, **kwargs)\u001b[0m\n\u001b[0;32m   3248\u001b[0m                          \u001b[0mvmin\u001b[0m\u001b[1;33m=\u001b[0m\u001b[0mvmin\u001b[0m\u001b[1;33m,\u001b[0m \u001b[0mvmax\u001b[0m\u001b[1;33m=\u001b[0m\u001b[0mvmax\u001b[0m\u001b[1;33m,\u001b[0m \u001b[0malpha\u001b[0m\u001b[1;33m=\u001b[0m\u001b[0malpha\u001b[0m\u001b[1;33m,\u001b[0m\u001b[1;33m\u001b[0m\u001b[0m\n\u001b[0;32m   3249\u001b[0m                          \u001b[0mlinewidths\u001b[0m\u001b[1;33m=\u001b[0m\u001b[0mlinewidths\u001b[0m\u001b[1;33m,\u001b[0m \u001b[0mverts\u001b[0m\u001b[1;33m=\u001b[0m\u001b[0mverts\u001b[0m\u001b[1;33m,\u001b[0m\u001b[1;33m\u001b[0m\u001b[0m\n\u001b[1;32m-> 3250\u001b[1;33m                          edgecolors=edgecolors, data=data, **kwargs)\n\u001b[0m\u001b[0;32m   3251\u001b[0m     \u001b[1;32mfinally\u001b[0m\u001b[1;33m:\u001b[0m\u001b[1;33m\u001b[0m\u001b[0m\n\u001b[0;32m   3252\u001b[0m         \u001b[0max\u001b[0m\u001b[1;33m.\u001b[0m\u001b[0mhold\u001b[0m\u001b[1;33m(\u001b[0m\u001b[0mwashold\u001b[0m\u001b[1;33m)\u001b[0m\u001b[1;33m\u001b[0m\u001b[0m\n",
      "\u001b[1;32mc:\\users\\gianna-carina\\appdata\\local\\programs\\python\\python35-32\\lib\\site-packages\\matplotlib\\__init__.py\u001b[0m in \u001b[0;36minner\u001b[1;34m(ax, *args, **kwargs)\u001b[0m\n\u001b[0;32m   1817\u001b[0m                     warnings.warn(msg % (label_namer, func.__name__),\n\u001b[0;32m   1818\u001b[0m                                   RuntimeWarning, stacklevel=2)\n\u001b[1;32m-> 1819\u001b[1;33m             \u001b[1;32mreturn\u001b[0m \u001b[0mfunc\u001b[0m\u001b[1;33m(\u001b[0m\u001b[0max\u001b[0m\u001b[1;33m,\u001b[0m \u001b[1;33m*\u001b[0m\u001b[0margs\u001b[0m\u001b[1;33m,\u001b[0m \u001b[1;33m**\u001b[0m\u001b[0mkwargs\u001b[0m\u001b[1;33m)\u001b[0m\u001b[1;33m\u001b[0m\u001b[0m\n\u001b[0m\u001b[0;32m   1820\u001b[0m         \u001b[0mpre_doc\u001b[0m \u001b[1;33m=\u001b[0m \u001b[0minner\u001b[0m\u001b[1;33m.\u001b[0m\u001b[0m__doc__\u001b[0m\u001b[1;33m\u001b[0m\u001b[0m\n\u001b[0;32m   1821\u001b[0m         \u001b[1;32mif\u001b[0m \u001b[0mpre_doc\u001b[0m \u001b[1;32mis\u001b[0m \u001b[1;32mNone\u001b[0m\u001b[1;33m:\u001b[0m\u001b[1;33m\u001b[0m\u001b[0m\n",
      "\u001b[1;32mc:\\users\\gianna-carina\\appdata\\local\\programs\\python\\python35-32\\lib\\site-packages\\matplotlib\\axes\\_axes.py\u001b[0m in \u001b[0;36mscatter\u001b[1;34m(self, x, y, s, c, marker, cmap, norm, vmin, vmax, alpha, linewidths, verts, edgecolors, **kwargs)\u001b[0m\n\u001b[0;32m   3886\u001b[0m \u001b[1;33m\u001b[0m\u001b[0m\n\u001b[0;32m   3887\u001b[0m         \u001b[1;31m# c will be unchanged unless it is the same length as x:\u001b[0m\u001b[1;33m\u001b[0m\u001b[1;33m\u001b[0m\u001b[0m\n\u001b[1;32m-> 3888\u001b[1;33m         \u001b[0mx\u001b[0m\u001b[1;33m,\u001b[0m \u001b[0my\u001b[0m\u001b[1;33m,\u001b[0m \u001b[0ms\u001b[0m\u001b[1;33m,\u001b[0m \u001b[0mc\u001b[0m \u001b[1;33m=\u001b[0m \u001b[0mcbook\u001b[0m\u001b[1;33m.\u001b[0m\u001b[0mdelete_masked_points\u001b[0m\u001b[1;33m(\u001b[0m\u001b[0mx\u001b[0m\u001b[1;33m,\u001b[0m \u001b[0my\u001b[0m\u001b[1;33m,\u001b[0m \u001b[0ms\u001b[0m\u001b[1;33m,\u001b[0m \u001b[0mc\u001b[0m\u001b[1;33m)\u001b[0m\u001b[1;33m\u001b[0m\u001b[0m\n\u001b[0m\u001b[0;32m   3889\u001b[0m \u001b[1;33m\u001b[0m\u001b[0m\n\u001b[0;32m   3890\u001b[0m         \u001b[0mscales\u001b[0m \u001b[1;33m=\u001b[0m \u001b[0ms\u001b[0m   \u001b[1;31m# Renamed for readability below.\u001b[0m\u001b[1;33m\u001b[0m\u001b[0m\n",
      "\u001b[1;32mc:\\users\\gianna-carina\\appdata\\local\\programs\\python\\python35-32\\lib\\site-packages\\matplotlib\\cbook.py\u001b[0m in \u001b[0;36mdelete_masked_points\u001b[1;34m(*args)\u001b[0m\n\u001b[0;32m   1846\u001b[0m         \u001b[1;32mreturn\u001b[0m \u001b[1;33m(\u001b[0m\u001b[1;33m)\u001b[0m\u001b[1;33m\u001b[0m\u001b[0m\n\u001b[0;32m   1847\u001b[0m     \u001b[1;32mif\u001b[0m \u001b[1;33m(\u001b[0m\u001b[0mis_string_like\u001b[0m\u001b[1;33m(\u001b[0m\u001b[0margs\u001b[0m\u001b[1;33m[\u001b[0m\u001b[1;36m0\u001b[0m\u001b[1;33m]\u001b[0m\u001b[1;33m)\u001b[0m \u001b[1;32mor\u001b[0m \u001b[1;32mnot\u001b[0m \u001b[0miterable\u001b[0m\u001b[1;33m(\u001b[0m\u001b[0margs\u001b[0m\u001b[1;33m[\u001b[0m\u001b[1;36m0\u001b[0m\u001b[1;33m]\u001b[0m\u001b[1;33m)\u001b[0m\u001b[1;33m)\u001b[0m\u001b[1;33m:\u001b[0m\u001b[1;33m\u001b[0m\u001b[0m\n\u001b[1;32m-> 1848\u001b[1;33m         \u001b[1;32mraise\u001b[0m \u001b[0mValueError\u001b[0m\u001b[1;33m(\u001b[0m\u001b[1;34m\"First argument must be a sequence\"\u001b[0m\u001b[1;33m)\u001b[0m\u001b[1;33m\u001b[0m\u001b[0m\n\u001b[0m\u001b[0;32m   1849\u001b[0m     \u001b[0mnrecs\u001b[0m \u001b[1;33m=\u001b[0m \u001b[0mlen\u001b[0m\u001b[1;33m(\u001b[0m\u001b[0margs\u001b[0m\u001b[1;33m[\u001b[0m\u001b[1;36m0\u001b[0m\u001b[1;33m]\u001b[0m\u001b[1;33m)\u001b[0m\u001b[1;33m\u001b[0m\u001b[0m\n\u001b[0;32m   1850\u001b[0m     \u001b[0mmargs\u001b[0m \u001b[1;33m=\u001b[0m \u001b[1;33m[\u001b[0m\u001b[1;33m]\u001b[0m\u001b[1;33m\u001b[0m\u001b[0m\n",
      "\u001b[1;31mValueError\u001b[0m: First argument must be a sequence"
     ]
    },
    {
     "data": {
      "image/png": "[encoded data removed]",
      "text/plain": [
       "<matplotlib.figure.Figure at 0x7803d70>"
      ]
     },
     "metadata": {},
     "output_type": "display_data"
    }
   ],
   "source": [
    "Clothing = df[df['Item Category'] == 'Clothing']\n",
    "Jewelry = df[df['Item Category'] == 'Jewelry & Watches']\n",
    "Travel_Accessories = df[df['Item Category'] == 'Travel Accessories']\n",
    "Personal_Electronics = df[df['Item Category'] == 'Personal Electronics']\n",
    "Cosmetics = df[df['Item Category'] == 'Cosmetics & Grooming']\n",
    "Computer = df[df['Item Category'] == 'Computer & Accessories']\n",
    "\n",
    "plt.scatter(y= Clothing[\"Date Received\"], x= Clothing[\"Date Received\"], c='c', alpha=0.75, marker='x')\n",
    "\n",
    "plt.scatter(y= Jewelry[\"Date Received\"], x= Jewelry[\"Date Received\"], c='y', alpha=0.75, marker='o')\n",
    "\n",
    "plt.scatter(y= Travel_Accessories[\"Date Received\"], x= Travel_Accessories[\"Date Received\"], c='m', alpha=0.75, marker='v')\n",
    "\n",
    "plt.scatter(y= Personal_Electronics[\"Date Received\"], x= Personal_Electronics[\"Date Received\"], c='m', alpha=0.75, marker='s')\n",
    "\n",
    "plt.scatter(y= Cosmetics[\"Date Received\"], x= Cosmetics[\"Date Received\"], c='m', alpha=0.75, marker='.')\n",
    "\n",
    "plt.scatter(y= Computer[\"Date Received\"], x= Computer[\"Date Received\"], c='m', alpha=0.75, marker='*')\n",
    "\n",
    "#markers: http://matplotlib.org/api/markers_api.html\n",
    "# convert dates into actual dates for python\n",
    "# make x a timeline: http://stackoverflow.com/questions/1574088/plotting-time-in-python-with-matplotlib\n",
    "# https://blog.mafr.de/2012/03/11/time-series-data-with-matplotlib/"
   ]
  },
  {
   "cell_type": "markdown",
   "metadata": {},
   "source": [
    "## 5. What is the airport with most property damage?"
   ]
  },
  {
   "cell_type": "code",
   "execution_count": 93,
   "metadata": {
    "collapsed": false
   },
   "outputs": [
    {
     "data": {
      "text/plain": [
       "Property Damage    3888\n",
       "Name: Claim Type, dtype: int64"
      ]
     },
     "execution_count": 93,
     "metadata": {},
     "output_type": "execute_result"
    }
   ],
   "source": [
    "damage = df[df['Claim Type'] == 'Property Damage']\n",
    "damage['Claim Type'].value_counts()"
   ]
  },
  {
   "cell_type": "code",
   "execution_count": 102,
   "metadata": {
    "collapsed": false
   },
   "outputs": [
    {
     "data": {
      "text/plain": [
       "Airport Name                                      Claim Type     \n",
       "John Wayne                                        Property Damage     33\n",
       "Dallas Love Field                                 Property Damage     33\n",
       "Metropolitan Oakland International                Property Damage     35\n",
       "Honolulu International Airport                    Property Damage     36\n",
       "Salt Lake City International Airport              Property Damage     37\n",
       "New Orleans International                         Property Damage     37\n",
       "Ronald Reagan Washington National Airport         Property Damage     39\n",
       "Baltimore/Washington Intl Thurgood Marshall       Property Damage     47\n",
       "Minneapolis/ St.Paul International Airport        Property Damage     47\n",
       "Tampa International                               Property Damage     54\n",
       "Charlotte/Douglas International Airport           Property Damage     59\n",
       "San Diego International                           Property Damage     66\n",
       "LaGuardia                                         Property Damage     66\n",
       "Houston - George Bush Intercontinental Airport    Property Damage     72\n",
       "Philadelphia International Airport                Property Damage     79\n",
       "Washington Dulles International                   Property Damage     80\n",
       "Denver International Airport                      Property Damage     80\n",
       "Ft. Lauderdale-Hollywood International            Property Damage     81\n",
       "Phoenix Sky Harbor International                  Property Damage     84\n",
       "Dallas-Fort Worth International Airport           Property Damage     91\n",
       "Boston (Logan) International Airport              Property Damage     98\n",
       "McCarran International                            Property Damage    105\n",
       "Seattle-Tacoma International                      Property Damage    105\n",
       "Newark International Airport                      Property Damage    119\n",
       "Miami International Airport                       Property Damage    130\n",
       "Chicago O'Hare International Airport              Property Damage    135\n",
       "Orlando International Airport                     Property Damage    154\n",
       "Hartsfield-Jackson Atlanta International Airport  Property Damage    178\n",
       "John F. Kennedy International                     Property Damage    218\n",
       "Los Angeles International Airport                 Property Damage    225\n",
       "Name: Claim Type, dtype: int64"
      ]
     },
     "execution_count": 102,
     "metadata": {},
     "output_type": "execute_result"
    }
   ],
   "source": [
    "damage_by_airport = damage.groupby('Airport Name')['Claim Type'].value_counts()\n",
    "damage_by_airport.sort_values().tail(30)"
   ]
  },
  {
   "cell_type": "markdown",
   "metadata": {},
   "source": [
    "## 6. How many of the claims were granted, how many denied?"
   ]
  },
  {
   "cell_type": "code",
   "execution_count": 105,
   "metadata": {
    "collapsed": false
   },
   "outputs": [
    {
     "data": {
      "text/plain": [
       "Deny               3574\n",
       "-                  2066\n",
       "Approve in Full    1958\n",
       "Settle             1069\n",
       "Name: Disposition, dtype: int64"
      ]
     },
     "execution_count": 105,
     "metadata": {},
     "output_type": "execute_result"
    }
   ],
   "source": [
    "end = df['Disposition'].value_counts()\n",
    "end"
   ]
  },
  {
   "cell_type": "code",
   "execution_count": 185,
   "metadata": {
    "collapsed": false
   },
   "outputs": [
    {
     "data": {
      "text/plain": [
       "<matplotlib.axes._subplots.AxesSubplot at 0x7281a30>"
      ]
     },
     "execution_count": 185,
     "metadata": {},
     "output_type": "execute_result"
    },
    {
     "data": {
      "image/png": "[encoded data removed]",
      "text/plain": [
       "<matplotlib.figure.Figure at 0x7286850>"
      ]
     },
     "metadata": {},
     "output_type": "display_data"
    }
   ],
   "source": [
    "plt.style.use('ggplot')\n",
    "end.plot(kind='pie')"
   ]
  },
  {
   "cell_type": "markdown",
   "metadata": {},
   "source": [
    "## 7. How do airlines compare on denial and full approval of claims?"
   ]
  },
  {
   "cell_type": "code",
   "execution_count": 119,
   "metadata": {
    "collapsed": false
   },
   "outputs": [
    {
     "data": {
      "text/plain": [
       "Approve in Full    1958\n",
       "Name: Disposition, dtype: int64"
      ]
     },
     "execution_count": 119,
     "metadata": {},
     "output_type": "execute_result"
    }
   ],
   "source": [
    "approval = df[df['Disposition'] == 'Approve in Full']\n",
    "approval['Disposition'].value_counts()"
   ]
  },
  {
   "cell_type": "code",
   "execution_count": 126,
   "metadata": {
    "collapsed": false
   },
   "outputs": [
    {
     "data": {
      "text/plain": [
       "Airline Name                Disposition    \n",
       "Sun Country Airlines Inc    Approve in Full      4\n",
       "Turkish Airlines            Approve in Full      4\n",
       "Virgin Atlantic             Approve in Full      5\n",
       "Air Canada                  Approve in Full      6\n",
       "Virgin America              Approve in Full     13\n",
       "Westjet Airlines Ltd        Approve in Full     14\n",
       "Lufthansa                   Approve in Full     14\n",
       "British Airways             Approve in Full     17\n",
       "Hawaiian Airlines           Approve in Full     26\n",
       "Allegiant Air               Approve in Full     27\n",
       "Spirit Airlines             Approve in Full     35\n",
       "Frontier Airlines           Approve in Full     37\n",
       "Alaska Airlines             Approve in Full     77\n",
       "Jet Blue                    Approve in Full     79\n",
       "-                           Approve in Full    138\n",
       "USAir                       Approve in Full    160\n",
       "American Airlines           Approve in Full    250\n",
       "UAL                         Approve in Full    252\n",
       "Delta Air Lines             Approve in Full    337\n",
       "Southwest Airlines          Approve in Full    387\n",
       "Name: Disposition, dtype: int64"
      ]
     },
     "execution_count": 126,
     "metadata": {},
     "output_type": "execute_result"
    }
   ],
   "source": [
    "approval_by_airline = approval.groupby('Airline Name')['Disposition'].value_counts()\n",
    "approval_by_airline.sort_values().tail(20)"
   ]
  },
  {
   "cell_type": "code",
   "execution_count": 132,
   "metadata": {
    "collapsed": false
   },
   "outputs": [
    {
     "data": {
      "text/plain": [
       "Deny    3574\n",
       "Name: Disposition, dtype: int64"
      ]
     },
     "execution_count": 132,
     "metadata": {},
     "output_type": "execute_result"
    }
   ],
   "source": [
    "denial = df[df['Disposition'] == 'Deny']\n",
    "denial['Disposition'].value_counts()"
   ]
  },
  {
   "cell_type": "code",
   "execution_count": 137,
   "metadata": {
    "collapsed": false
   },
   "outputs": [
    {
     "data": {
      "text/plain": [
       "Airline Name            Disposition\n",
       "Emirates                Deny             8\n",
       "Etihad Airways          Deny             9\n",
       "Lufthansa               Deny            13\n",
       "Air France              Deny            13\n",
       "Westjet Airlines Ltd    Deny            19\n",
       "Air Canada              Deny            26\n",
       "Virgin America          Deny            40\n",
       "Allegiant Air           Deny            41\n",
       "Hawaiian Airlines       Deny            60\n",
       "Frontier Airlines       Deny            61\n",
       "Spirit Airlines         Deny            72\n",
       "British Airways         Deny            86\n",
       "Alaska Airlines         Deny           145\n",
       "-                       Deny           150\n",
       "Jet Blue                Deny           161\n",
       "USAir                   Deny           273\n",
       "UAL                     Deny           459\n",
       "American Airlines       Deny           496\n",
       "Delta Air Lines         Deny           590\n",
       "Southwest Airlines      Deny           658\n",
       "Name: Disposition, dtype: int64"
      ]
     },
     "execution_count": 137,
     "metadata": {},
     "output_type": "execute_result"
    }
   ],
   "source": [
    "denial_by_airline = denial.groupby('Airline Name')['Disposition'].value_counts()\n",
    "denial_by_airline.sort_values().tail(20)"
   ]
  },
  {
   "cell_type": "markdown",
   "metadata": {},
   "source": [
    "## 8. What is the average close amount? What is mean/max?"
   ]
  },
  {
   "cell_type": "code",
   "execution_count": 157,
   "metadata": {
    "collapsed": false
   },
   "outputs": [
    {
     "data": {
      "text/plain": [
       "count    8667.000000\n",
       "mean       70.513101\n",
       "std       216.240594\n",
       "min         0.000000\n",
       "25%         0.000000\n",
       "50%         0.000000\n",
       "75%        50.000000\n",
       "max      5403.460000\n",
       "Name: Amount_float, dtype: float64"
      ]
     },
     "execution_count": 157,
     "metadata": {},
     "output_type": "execute_result"
    }
   ],
   "source": [
    "float_amount = df['Close Amount'].str.replace('$','').str.replace('-','0').str.replace(',','').astype(float)\n",
    "df['Amount_float'] = float_amount\n",
    "df.head(3)\n",
    "df['Amount_float'].describe()"
   ]
  },
  {
   "cell_type": "code",
   "execution_count": 188,
   "metadata": {
    "collapsed": false
   },
   "outputs": [
    {
     "data": {
      "text/plain": [
       "<matplotlib.axes._subplots.AxesSubplot at 0x7286490>"
      ]
     },
     "execution_count": 188,
     "metadata": {},
     "output_type": "execute_result"
    },
    {
     "data": {
      "image/png": "[encoded data removed]",
      "text/plain": [
       "<matplotlib.figure.Figure at 0x77fb4f0>"
      ]
     },
     "metadata": {},
     "output_type": "display_data"
    }
   ],
   "source": [
    "df['Amount_float'].hist()\n",
    "#how to customize?"
   ]
  },
  {
   "cell_type": "markdown",
   "metadata": {},
   "source": [
    "## 9. Per airline, what is the average close amount?"
   ]
  },
  {
   "cell_type": "code",
   "execution_count": 165,
   "metadata": {
    "collapsed": false
   },
   "outputs": [
    {
     "data": {
      "text/plain": [
       "Airline Name\n",
       "Allegiant Air                             63.900400\n",
       "Delta Air Lines                           65.665711\n",
       "Carribean Airlines                        66.104545\n",
       "American Airlines                         66.141277\n",
       "Royal Jordanian Airline                   66.750000\n",
       "Emirates                                  67.813333\n",
       "UAL                                       68.288594\n",
       "Southwest Airlines                        68.696680\n",
       "Air Canada                                69.911765\n",
       "EVA airlines                              70.000000\n",
       "Scandinavian Airlines Systems             70.535000\n",
       "Island Air                                70.780000\n",
       "Frontier Airlines                         70.792516\n",
       "Spirit Airlines                           70.916341\n",
       "Aero Flot                                 71.428571\n",
       "USAir                                     72.987410\n",
       "Pakistan International Airlines Cor       75.000000\n",
       "OMNI Air Express- (OY)                    85.795000\n",
       "Polish Airlines                           88.420000\n",
       "Jet Blue                                  89.367430\n",
       "Skywest Airlines Inc USA                  90.000000\n",
       "Virgin Atlantic                           94.201923\n",
       "Philippine Airlines                       99.000000\n",
       "Great Lakes Airline                      100.000000\n",
       "Austrian Airlines                        100.000000\n",
       "Qantas Airlines                          101.980000\n",
       "-                                        102.058140\n",
       "Lufthansa                                103.968667\n",
       "China Eastern Airlines                   105.400000\n",
       "Aer Lingus                               107.877000\n",
       "Copa Airlines                            111.935000\n",
       "Southeast Airlines                       122.500000\n",
       "LOT Polish Airlines                      131.633333\n",
       "Lan Airlines                             136.905000\n",
       "Aerolineas Argentinas                    143.716667\n",
       "Etihad Airways                           148.070476\n",
       "Air Berlin                               152.816250\n",
       "Turkish Airlines                         168.130667\n",
       "CanJet                                   170.000000\n",
       "Cathay Pacific - CX                      181.271818\n",
       "Silverjet                                186.275000\n",
       "Asiana Airlines                          223.003750\n",
       "Horizon Air                              235.640000\n",
       "Norwegian Airlines                       262.878571\n",
       "Air India                                286.185000\n",
       "KLM Royal Dutch Airlines                 300.000000\n",
       "SunWing Airlines                         377.400000\n",
       "Czech Airlines                           388.890000\n",
       "Iceland Air                              504.000000\n",
       "Air New Zealand                          517.700000\n",
       "Name: Amount_float, dtype: float64"
      ]
     },
     "execution_count": 165,
     "metadata": {},
     "output_type": "execute_result"
    }
   ],
   "source": [
    "df.groupby('Airline Name')['Amount_float'].mean().sort_values().tail(50)"
   ]
  },
  {
   "cell_type": "code",
   "execution_count": 191,
   "metadata": {
    "collapsed": false
   },
   "outputs": [
    {
     "ename": "KeyError",
     "evalue": "<pandas.core.groupby.SeriesGroupBy object at 0x07834F30>",
     "output_type": "error",
     "traceback": [
      "\u001b[1;31m---------------------------------------------------------------------------\u001b[0m",
      "\u001b[1;31mKeyError\u001b[0m                                  Traceback (most recent call last)",
      "\u001b[1;32mc:\\users\\gianna-carina\\appdata\\local\\programs\\python\\python35-32\\lib\\site-packages\\pandas\\indexes\\base.py\u001b[0m in \u001b[0;36mget_loc\u001b[1;34m(self, key, method, tolerance)\u001b[0m\n\u001b[0;32m   1944\u001b[0m             \u001b[1;32mtry\u001b[0m\u001b[1;33m:\u001b[0m\u001b[1;33m\u001b[0m\u001b[0m\n\u001b[1;32m-> 1945\u001b[1;33m                 \u001b[1;32mreturn\u001b[0m \u001b[0mself\u001b[0m\u001b[1;33m.\u001b[0m\u001b[0m_engine\u001b[0m\u001b[1;33m.\u001b[0m\u001b[0mget_loc\u001b[0m\u001b[1;33m(\u001b[0m\u001b[0mkey\u001b[0m\u001b[1;33m)\u001b[0m\u001b[1;33m\u001b[0m\u001b[0m\n\u001b[0m\u001b[0;32m   1946\u001b[0m             \u001b[1;32mexcept\u001b[0m \u001b[0mKeyError\u001b[0m\u001b[1;33m:\u001b[0m\u001b[1;33m\u001b[0m\u001b[0m\n",
      "\u001b[1;32mpandas\\index.pyx\u001b[0m in \u001b[0;36mpandas.index.IndexEngine.get_loc (pandas\\index.c:4066)\u001b[1;34m()\u001b[0m\n",
      "\u001b[1;32mpandas\\index.pyx\u001b[0m in \u001b[0;36mpandas.index.IndexEngine.get_loc (pandas\\index.c:3930)\u001b[1;34m()\u001b[0m\n",
      "\u001b[1;32mpandas\\hashtable.pyx\u001b[0m in \u001b[0;36mpandas.hashtable.PyObjectHashTable.get_item (pandas\\hashtable.c:12408)\u001b[1;34m()\u001b[0m\n",
      "\u001b[1;32mpandas\\hashtable.pyx\u001b[0m in \u001b[0;36mpandas.hashtable.PyObjectHashTable.get_item (pandas\\hashtable.c:12359)\u001b[1;34m()\u001b[0m\n",
      "\u001b[1;31mKeyError\u001b[0m: <pandas.core.groupby.SeriesGroupBy object at 0x07834F30>",
      "\nDuring handling of the above exception, another exception occurred:\n",
      "\u001b[1;31mKeyError\u001b[0m                                  Traceback (most recent call last)",
      "\u001b[1;32m<ipython-input-191-8dcdc6eb1150>\u001b[0m in \u001b[0;36m<module>\u001b[1;34m()\u001b[0m\n\u001b[1;32m----> 1\u001b[1;33m \u001b[0mdf\u001b[0m\u001b[1;33m[\u001b[0m\u001b[0mdf\u001b[0m\u001b[1;33m.\u001b[0m\u001b[0mgroupby\u001b[0m\u001b[1;33m(\u001b[0m\u001b[1;34m'Airline Name'\u001b[0m\u001b[1;33m)\u001b[0m\u001b[1;33m[\u001b[0m\u001b[1;34m'Amount_float'\u001b[0m\u001b[1;33m]\u001b[0m\u001b[1;33m]\u001b[0m\u001b[1;33m.\u001b[0m\u001b[0mmean\u001b[0m\u001b[1;33m(\u001b[0m\u001b[1;33m)\u001b[0m\u001b[1;33m.\u001b[0m\u001b[0msort_values\u001b[0m\u001b[1;33m(\u001b[0m\u001b[1;33m)\u001b[0m\u001b[1;33m.\u001b[0m\u001b[0mtail\u001b[0m\u001b[1;33m(\u001b[0m\u001b[1;36m50\u001b[0m\u001b[1;33m)\u001b[0m\u001b[1;33m\u001b[0m\u001b[0m\n\u001b[0m",
      "\u001b[1;32mc:\\users\\gianna-carina\\appdata\\local\\programs\\python\\python35-32\\lib\\site-packages\\pandas\\core\\frame.py\u001b[0m in \u001b[0;36m__getitem__\u001b[1;34m(self, key)\u001b[0m\n\u001b[0;32m   1995\u001b[0m             \u001b[1;32mreturn\u001b[0m \u001b[0mself\u001b[0m\u001b[1;33m.\u001b[0m\u001b[0m_getitem_multilevel\u001b[0m\u001b[1;33m(\u001b[0m\u001b[0mkey\u001b[0m\u001b[1;33m)\u001b[0m\u001b[1;33m\u001b[0m\u001b[0m\n\u001b[0;32m   1996\u001b[0m         \u001b[1;32melse\u001b[0m\u001b[1;33m:\u001b[0m\u001b[1;33m\u001b[0m\u001b[0m\n\u001b[1;32m-> 1997\u001b[1;33m             \u001b[1;32mreturn\u001b[0m \u001b[0mself\u001b[0m\u001b[1;33m.\u001b[0m\u001b[0m_getitem_column\u001b[0m\u001b[1;33m(\u001b[0m\u001b[0mkey\u001b[0m\u001b[1;33m)\u001b[0m\u001b[1;33m\u001b[0m\u001b[0m\n\u001b[0m\u001b[0;32m   1998\u001b[0m \u001b[1;33m\u001b[0m\u001b[0m\n\u001b[0;32m   1999\u001b[0m     \u001b[1;32mdef\u001b[0m \u001b[0m_getitem_column\u001b[0m\u001b[1;33m(\u001b[0m\u001b[0mself\u001b[0m\u001b[1;33m,\u001b[0m \u001b[0mkey\u001b[0m\u001b[1;33m)\u001b[0m\u001b[1;33m:\u001b[0m\u001b[1;33m\u001b[0m\u001b[0m\n",
      "\u001b[1;32mc:\\users\\gianna-carina\\appdata\\local\\programs\\python\\python35-32\\lib\\site-packages\\pandas\\core\\frame.py\u001b[0m in \u001b[0;36m_getitem_column\u001b[1;34m(self, key)\u001b[0m\n\u001b[0;32m   2002\u001b[0m         \u001b[1;31m# get column\u001b[0m\u001b[1;33m\u001b[0m\u001b[1;33m\u001b[0m\u001b[0m\n\u001b[0;32m   2003\u001b[0m         \u001b[1;32mif\u001b[0m \u001b[0mself\u001b[0m\u001b[1;33m.\u001b[0m\u001b[0mcolumns\u001b[0m\u001b[1;33m.\u001b[0m\u001b[0mis_unique\u001b[0m\u001b[1;33m:\u001b[0m\u001b[1;33m\u001b[0m\u001b[0m\n\u001b[1;32m-> 2004\u001b[1;33m             \u001b[1;32mreturn\u001b[0m \u001b[0mself\u001b[0m\u001b[1;33m.\u001b[0m\u001b[0m_get_item_cache\u001b[0m\u001b[1;33m(\u001b[0m\u001b[0mkey\u001b[0m\u001b[1;33m)\u001b[0m\u001b[1;33m\u001b[0m\u001b[0m\n\u001b[0m\u001b[0;32m   2005\u001b[0m \u001b[1;33m\u001b[0m\u001b[0m\n\u001b[0;32m   2006\u001b[0m         \u001b[1;31m# duplicate columns & possible reduce dimensionality\u001b[0m\u001b[1;33m\u001b[0m\u001b[1;33m\u001b[0m\u001b[0m\n",
      "\u001b[1;32mc:\\users\\gianna-carina\\appdata\\local\\programs\\python\\python35-32\\lib\\site-packages\\pandas\\core\\generic.py\u001b[0m in \u001b[0;36m_get_item_cache\u001b[1;34m(self, item)\u001b[0m\n\u001b[0;32m   1348\u001b[0m         \u001b[0mres\u001b[0m \u001b[1;33m=\u001b[0m \u001b[0mcache\u001b[0m\u001b[1;33m.\u001b[0m\u001b[0mget\u001b[0m\u001b[1;33m(\u001b[0m\u001b[0mitem\u001b[0m\u001b[1;33m)\u001b[0m\u001b[1;33m\u001b[0m\u001b[0m\n\u001b[0;32m   1349\u001b[0m         \u001b[1;32mif\u001b[0m \u001b[0mres\u001b[0m \u001b[1;32mis\u001b[0m \u001b[1;32mNone\u001b[0m\u001b[1;33m:\u001b[0m\u001b[1;33m\u001b[0m\u001b[0m\n\u001b[1;32m-> 1350\u001b[1;33m             \u001b[0mvalues\u001b[0m \u001b[1;33m=\u001b[0m \u001b[0mself\u001b[0m\u001b[1;33m.\u001b[0m\u001b[0m_data\u001b[0m\u001b[1;33m.\u001b[0m\u001b[0mget\u001b[0m\u001b[1;33m(\u001b[0m\u001b[0mitem\u001b[0m\u001b[1;33m)\u001b[0m\u001b[1;33m\u001b[0m\u001b[0m\n\u001b[0m\u001b[0;32m   1351\u001b[0m             \u001b[0mres\u001b[0m \u001b[1;33m=\u001b[0m \u001b[0mself\u001b[0m\u001b[1;33m.\u001b[0m\u001b[0m_box_item_values\u001b[0m\u001b[1;33m(\u001b[0m\u001b[0mitem\u001b[0m\u001b[1;33m,\u001b[0m \u001b[0mvalues\u001b[0m\u001b[1;33m)\u001b[0m\u001b[1;33m\u001b[0m\u001b[0m\n\u001b[0;32m   1352\u001b[0m             \u001b[0mcache\u001b[0m\u001b[1;33m[\u001b[0m\u001b[0mitem\u001b[0m\u001b[1;33m]\u001b[0m \u001b[1;33m=\u001b[0m \u001b[0mres\u001b[0m\u001b[1;33m\u001b[0m\u001b[0m\n",
      "\u001b[1;32mc:\\users\\gianna-carina\\appdata\\local\\programs\\python\\python35-32\\lib\\site-packages\\pandas\\core\\internals.py\u001b[0m in \u001b[0;36mget\u001b[1;34m(self, item, fastpath)\u001b[0m\n\u001b[0;32m   3288\u001b[0m \u001b[1;33m\u001b[0m\u001b[0m\n\u001b[0;32m   3289\u001b[0m             \u001b[1;32mif\u001b[0m \u001b[1;32mnot\u001b[0m \u001b[0misnull\u001b[0m\u001b[1;33m(\u001b[0m\u001b[0mitem\u001b[0m\u001b[1;33m)\u001b[0m\u001b[1;33m:\u001b[0m\u001b[1;33m\u001b[0m\u001b[0m\n\u001b[1;32m-> 3290\u001b[1;33m                 \u001b[0mloc\u001b[0m \u001b[1;33m=\u001b[0m \u001b[0mself\u001b[0m\u001b[1;33m.\u001b[0m\u001b[0mitems\u001b[0m\u001b[1;33m.\u001b[0m\u001b[0mget_loc\u001b[0m\u001b[1;33m(\u001b[0m\u001b[0mitem\u001b[0m\u001b[1;33m)\u001b[0m\u001b[1;33m\u001b[0m\u001b[0m\n\u001b[0m\u001b[0;32m   3291\u001b[0m             \u001b[1;32melse\u001b[0m\u001b[1;33m:\u001b[0m\u001b[1;33m\u001b[0m\u001b[0m\n\u001b[0;32m   3292\u001b[0m                 \u001b[0mindexer\u001b[0m \u001b[1;33m=\u001b[0m \u001b[0mnp\u001b[0m\u001b[1;33m.\u001b[0m\u001b[0marange\u001b[0m\u001b[1;33m(\u001b[0m\u001b[0mlen\u001b[0m\u001b[1;33m(\u001b[0m\u001b[0mself\u001b[0m\u001b[1;33m.\u001b[0m\u001b[0mitems\u001b[0m\u001b[1;33m)\u001b[0m\u001b[1;33m)\u001b[0m\u001b[1;33m[\u001b[0m\u001b[0misnull\u001b[0m\u001b[1;33m(\u001b[0m\u001b[0mself\u001b[0m\u001b[1;33m.\u001b[0m\u001b[0mitems\u001b[0m\u001b[1;33m)\u001b[0m\u001b[1;33m]\u001b[0m\u001b[1;33m\u001b[0m\u001b[0m\n",
      "\u001b[1;32mc:\\users\\gianna-carina\\appdata\\local\\programs\\python\\python35-32\\lib\\site-packages\\pandas\\indexes\\base.py\u001b[0m in \u001b[0;36mget_loc\u001b[1;34m(self, key, method, tolerance)\u001b[0m\n\u001b[0;32m   1945\u001b[0m                 \u001b[1;32mreturn\u001b[0m \u001b[0mself\u001b[0m\u001b[1;33m.\u001b[0m\u001b[0m_engine\u001b[0m\u001b[1;33m.\u001b[0m\u001b[0mget_loc\u001b[0m\u001b[1;33m(\u001b[0m\u001b[0mkey\u001b[0m\u001b[1;33m)\u001b[0m\u001b[1;33m\u001b[0m\u001b[0m\n\u001b[0;32m   1946\u001b[0m             \u001b[1;32mexcept\u001b[0m \u001b[0mKeyError\u001b[0m\u001b[1;33m:\u001b[0m\u001b[1;33m\u001b[0m\u001b[0m\n\u001b[1;32m-> 1947\u001b[1;33m                 \u001b[1;32mreturn\u001b[0m \u001b[0mself\u001b[0m\u001b[1;33m.\u001b[0m\u001b[0m_engine\u001b[0m\u001b[1;33m.\u001b[0m\u001b[0mget_loc\u001b[0m\u001b[1;33m(\u001b[0m\u001b[0mself\u001b[0m\u001b[1;33m.\u001b[0m\u001b[0m_maybe_cast_indexer\u001b[0m\u001b[1;33m(\u001b[0m\u001b[0mkey\u001b[0m\u001b[1;33m)\u001b[0m\u001b[1;33m)\u001b[0m\u001b[1;33m\u001b[0m\u001b[0m\n\u001b[0m\u001b[0;32m   1948\u001b[0m \u001b[1;33m\u001b[0m\u001b[0m\n\u001b[0;32m   1949\u001b[0m         \u001b[0mindexer\u001b[0m \u001b[1;33m=\u001b[0m \u001b[0mself\u001b[0m\u001b[1;33m.\u001b[0m\u001b[0mget_indexer\u001b[0m\u001b[1;33m(\u001b[0m\u001b[1;33m[\u001b[0m\u001b[0mkey\u001b[0m\u001b[1;33m]\u001b[0m\u001b[1;33m,\u001b[0m \u001b[0mmethod\u001b[0m\u001b[1;33m=\u001b[0m\u001b[0mmethod\u001b[0m\u001b[1;33m,\u001b[0m \u001b[0mtolerance\u001b[0m\u001b[1;33m=\u001b[0m\u001b[0mtolerance\u001b[0m\u001b[1;33m)\u001b[0m\u001b[1;33m\u001b[0m\u001b[0m\n",
      "\u001b[1;32mpandas\\index.pyx\u001b[0m in \u001b[0;36mpandas.index.IndexEngine.get_loc (pandas\\index.c:4066)\u001b[1;34m()\u001b[0m\n",
      "\u001b[1;32mpandas\\index.pyx\u001b[0m in \u001b[0;36mpandas.index.IndexEngine.get_loc (pandas\\index.c:3930)\u001b[1;34m()\u001b[0m\n",
      "\u001b[1;32mpandas\\hashtable.pyx\u001b[0m in \u001b[0;36mpandas.hashtable.PyObjectHashTable.get_item (pandas\\hashtable.c:12408)\u001b[1;34m()\u001b[0m\n",
      "\u001b[1;32mpandas\\hashtable.pyx\u001b[0m in \u001b[0;36mpandas.hashtable.PyObjectHashTable.get_item (pandas\\hashtable.c:12359)\u001b[1;34m()\u001b[0m\n",
      "\u001b[1;31mKeyError\u001b[0m: <pandas.core.groupby.SeriesGroupBy object at 0x07834F30>"
     ]
    }
   ],
   "source": [
    "#how to turn the above into a barh graph?\n",
    "#df[df.groupby('Airline Name')['Amount_float']].mean().sort_values().tail(50)\n",
    "#thought whether it was an issue of where the last ] is, but tried all positions... maybe it struggles with the two functions\n",
    "# make it a new table first?"
   ]
  },
  {
   "cell_type": "markdown",
   "metadata": {},
   "source": [
    "## 10. Per item category, what is the average close amount?"
   ]
  },
  {
   "cell_type": "code",
   "execution_count": 177,
   "metadata": {
    "collapsed": false
   },
   "outputs": [
    {
     "data": {
      "text/plain": [
       "Item Category\n",
       "-                                                                                                                                                                                                                   120.002443\n",
       "Audio/Video                                                                                                                                                                                                          59.604272\n",
       "Audio/Video; Audio/Video                                                                                                                                                                                              0.000000\n",
       "Audio/Video; Audio/Video; Audio/Video                                                                                                                                                                                 0.000000\n",
       "Audio/Video; Audio/Video; Baggage/Cases/Purses                                                                                                                                                                        0.000000\n",
       "Audio/Video; Audio/Video; Cameras; Computer & Accessories; Food & Drink; Personal Electronics                                                                                                                         0.000000\n",
       "Audio/Video; Audio/Video; Clothing; Travel Accessories                                                                                                                                                              201.920000\n",
       "Audio/Video; Audio/Video; Jewelry & Watches; Medical/Science                                                                                                                                                          0.000000\n",
       "Audio/Video; Baggage/Cases/Purses                                                                                                                                                                                   198.595000\n",
       "Audio/Video; Baggage/Cases/Purses; Clothing; Cosmetics & Grooming; Home Decor                                                                                                                                         0.000000\n",
       "Audio/Video; Baggage/Cases/Purses; Clothing; Home Decor; Home Decor; Jewelry & Watches                                                                                                                                0.000000\n",
       "Audio/Video; Baggage/Cases/Purses; Medical/Science                                                                                                                                                                    0.000000\n",
       "Audio/Video; Books, Magazines & Other                                                                                                                                                                                 0.000000\n",
       "Audio/Video; Cameras; Cameras; Cameras                                                                                                                                                                                0.000000\n",
       "Audio/Video; Cameras; Cameras; Computer & Accessories; Jewelry & Watches                                                                                                                                              0.000000\n",
       "Audio/Video; Clothing                                                                                                                                                                                                 0.000000\n",
       "Audio/Video; Clothing; Clothing; Clothing; Clothing; Clothing; Medical/Science; Other                                                                                                                               176.000000\n",
       "Audio/Video; Clothing; Clothing; Clothing; Computer & Accessories; Cosmetics & Grooming; Food & Drink; Personal Electronics                                                                                           0.000000\n",
       "Audio/Video; Clothing; Clothing; Clothing; Home Decor                                                                                                                                                                 0.000000\n",
       "Audio/Video; Clothing; Clothing; Cosmetics & Grooming                                                                                                                                                                 0.000000\n",
       "Audio/Video; Clothing; Other; Other                                                                                                                                                                                   0.000000\n",
       "Audio/Video; Computer & Accessories                                                                                                                                                                                   0.000000\n",
       "Audio/Video; Computer & Accessories; Computer & Accessories; Jewelry & Watches; Personal Electronics                                                                                                                  0.000000\n",
       "Audio/Video; Computer & Accessories; Jewelry & Watches; Personal Accessories                                                                                                                                          0.000000\n",
       "Audio/Video; Cosmetics & Grooming; Cosmetics & Grooming; Household Items                                                                                                                                              0.000000\n",
       "Audio/Video; Cosmetics & Grooming; Medical/Science; Other                                                                                                                                                             0.000000\n",
       "Audio/Video; Currency; Other                                                                                                                                                                                          0.000000\n",
       "Audio/Video; Food & Drink; Other                                                                                                                                                                                      0.000000\n",
       "Audio/Video; Home Decor                                                                                                                                                                                               0.000000\n",
       "Audio/Video; Jewelry & Watches                                                                                                                                                                                        0.000000\n",
       "                                                                                                                                                                                                                       ...    \n",
       "Other; Sporting Equipment & Supplies; Sporting Equipment & Supplies                                                                                                                                                 265.970000\n",
       "Other; Toys & Games                                                                                                                                                                                                   0.000000\n",
       "Other; Travel Accessories                                                                                                                                                                                            50.855833\n",
       "Outdoor Items                                                                                                                                                                                                        39.345385\n",
       "Personal Accessories                                                                                                                                                                                                 96.900951\n",
       "Personal Accessories; Personal Accessories                                                                                                                                                                            0.000000\n",
       "Personal Accessories; Personal Accessories; Personal Accessories                                                                                                                                                      0.000000\n",
       "Personal Accessories; Personal Electronics                                                                                                                                                                          272.437500\n",
       "Personal Accessories; Personal Electronics; Personal Navigation                                                                                                                                                       0.000000\n",
       "Personal Accessories; Personal Electronics; Travel Accessories                                                                                                                                                        0.000000\n",
       "Personal Accessories; Tools & Home Improvement Supplies                                                                                                                                                              63.000000\n",
       "Personal Electronics                                                                                                                                                                                                 88.614635\n",
       "Personal Electronics; Personal Electronics                                                                                                                                                                           66.056154\n",
       "Personal Electronics; Personal Electronics; Personal Electronics                                                                                                                                                    163.722500\n",
       "Personal Electronics; Toys & Games; Toys & Games                                                                                                                                                                      0.000000\n",
       "Personal Electronics; Travel Accessories                                                                                                                                                                            303.875000\n",
       "Personal Navigation                                                                                                                                                                                                  60.630000\n",
       "Personal Navigation; Sporting Equipment & Supplies                                                                                                                                                                    0.000000\n",
       "Sporting Equipment & Supplies                                                                                                                                                                                       112.125850\n",
       "Sporting Equipment & Supplies; Sporting Equipment & Supplies                                                                                                                                                          0.000000\n",
       "Sporting Equipment & Supplies; Travel Accessories                                                                                                                                                                    65.000000\n",
       "Tools & Home Improvement Supplies                                                                                                                                                                                    68.457049\n",
       "Tools & Home Improvement Supplies; Tools & Home Improvement Supplies                                                                                                                                                  0.000000\n",
       "Tools & Home Improvement Supplies; Tools & Home Improvement Supplies; Tools & Home Improvement Supplies                                                                                                               0.000000\n",
       "Tools & Home Improvement Supplies; Tools & Home Improvement Supplies; Tools & Home Improvement Supplies; Tools & Home Improvement Supplies; Tools & Home Improvement Supplies; Tools & Home Improvement Supplies      0.000000\n",
       "Tools & Home Improvement Supplies; Travel Accessories                                                                                                                                                                35.000000\n",
       "Toys & Games                                                                                                                                                                                                         39.465000\n",
       "Toys & Games; Travel Accessories                                                                                                                                                                                    200.000000\n",
       "Travel Accessories                                                                                                                                                                                                   30.596938\n",
       "Travel Accessories; Travel Accessories                                                                                                                                                                              500.000000\n",
       "Name: Amount_float, dtype: float64"
      ]
     },
     "execution_count": 177,
     "metadata": {},
     "output_type": "execute_result"
    }
   ],
   "source": [
    "#loss['Amount_float'] = float_amount\n",
    "#loss.groupby('Item Category')['Amount_float'].mean()\n",
    "df.groupby('Item Category')['Amount_float'].mean()\n",
    "\n",
    "#how to take only those with one entry? ie only \"Audio/Video\" instead of \"Audio/Video; Audio/Video\"?\n",
    "#--> exclude all the cells that have a ; in it as that is how multiple entries are separated?"
   ]
  },
  {
   "cell_type": "code",
   "execution_count": null,
   "metadata": {
    "collapsed": true
   },
   "outputs": [],
   "source": []
  }
 ],
 "metadata": {
  "kernelspec": {
   "display_name": "Python 3",
   "language": "python",
   "name": "python3"
  },
  "language_info": {
   "codemirror_mode": {
    "name": "ipython",
    "version": 3
   },
   "file_extension": ".py",
   "mimetype": "text/x-python",
   "name": "python",
   "nbconvert_exporter": "python",
   "pygments_lexer": "ipython3",
   "version": "3.5.1"
  }
 },
 "nbformat": 4,
 "nbformat_minor": 0
}
